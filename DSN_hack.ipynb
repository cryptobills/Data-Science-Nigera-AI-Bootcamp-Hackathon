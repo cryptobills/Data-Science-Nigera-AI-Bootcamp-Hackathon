{
  "nbformat": 4,
  "nbformat_minor": 0,
  "metadata": {
    "colab": {
      "name": "DSN hack.ipynb",
      "provenance": [],
      "collapsed_sections": []
    },
    "kernelspec": {
      "name": "python3",
      "display_name": "Python 3"
    }
  },
  "cells": [
    {
      "cell_type": "code",
      "metadata": {
        "id": "Z7ImLy-3TR9q",
        "outputId": "73d4aaa1-ebec-44eb-c72b-2cdd46fe95dc",
        "colab": {
          "resources": {
            "http://localhost:8080/nbextensions/google.colab/files.js": {
              "data": "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",
              "ok": true,
              "headers": [
                [
                  "content-type",
                  "application/javascript"
                ]
              ],
              "status": 200,
              "status_text": ""
            }
          },
          "base_uri": "https://localhost:8080/",
          "height": 142
        }
      },
      "source": [
        "from google.colab import files\n",
        "upload=files.upload()"
      ],
      "execution_count": 1,
      "outputs": [
        {
          "output_type": "display_data",
          "data": {
            "text/html": [
              "\n",
              "     <input type=\"file\" id=\"files-3853b8a0-663d-4ccc-8806-3ab77a0293b4\" name=\"files[]\" multiple disabled\n",
              "        style=\"border:none\" />\n",
              "     <output id=\"result-3853b8a0-663d-4ccc-8806-3ab77a0293b4\">\n",
              "      Upload widget is only available when the cell has been executed in the\n",
              "      current browser session. Please rerun this cell to enable.\n",
              "      </output>\n",
              "      <script src=\"/nbextensions/google.colab/files.js\"></script> "
            ],
            "text/plain": [
              "<IPython.core.display.HTML object>"
            ]
          },
          "metadata": {
            "tags": []
          }
        },
        {
          "output_type": "stream",
          "text": [
            "Saving SampleSubmission.csv to SampleSubmission.csv\n",
            "Saving Test.csv to Test.csv\n",
            "Saving Train.csv to Train.csv\n"
          ],
          "name": "stdout"
        }
      ]
    },
    {
      "cell_type": "code",
      "metadata": {
        "id": "-Sr7NwfWTR8K",
        "outputId": "b7c101ed-0f2d-4b13-cf05-f5e54e5aaae7",
        "colab": {
          "base_uri": "https://localhost:8080/",
          "height": 336
        }
      },
      "source": [
        "##import libraries\n",
        "!pip install catboost\n",
        "\n",
        "import numpy as np # linear algebra\n",
        "import pandas as pd # data processing, CSV file I/O (e.g. pd.read_csv)\n",
        "from scipy.stats import randint\n",
        "import pandas as pd # data processing, CSV file I/O, data manipulation \n",
        "import matplotlib.pyplot as plt # this is used for the plot the graph \n",
        "import seaborn as sns # used for plot interactive graph. \n",
        "from pandas import set_option\n",
        "plt.style.use('ggplot') # nice plots\n",
        "\n",
        "\n",
        "from sklearn.model_selection import KFold # for cross validation\n",
        "from sklearn.model_selection import GridSearchCV # for tuning parameter\n",
        "\n",
        "from catboost import CatBoostClassifier\n",
        "from sklearn.model_selection import cross_val_score\n",
        "from sklearn.metrics import classification_report\n",
        "from sklearn.metrics import confusion_matrix\n",
        "from sklearn.neighbors import KNeighborsClassifier #KNN\n",
        "from sklearn.tree import DecisionTreeClassifier\n",
        "from sklearn.ensemble import ExtraTreesClassifier\n",
        "from sklearn.feature_selection import SelectFromModel\n",
        "from sklearn import metrics # for the check the error and accuracy of the model\n",
        "import warnings\n",
        "warnings.filterwarnings(\"ignore\", category=FutureWarning)\n",
        "\n",
        "import os\n"
      ],
      "execution_count": 111,
      "outputs": [
        {
          "output_type": "stream",
          "text": [
            "Collecting catboost\n",
            "\u001b[?25l  Downloading https://files.pythonhosted.org/packages/90/86/c3dcb600b4f9e7584ed90ea9d30a717fb5c0111574675f442c3e7bc19535/catboost-0.24.1-cp36-none-manylinux1_x86_64.whl (66.1MB)\n",
            "\u001b[K     |████████████████████████████████| 66.1MB 59kB/s \n",
            "\u001b[?25hRequirement already satisfied: pandas>=0.24.0 in /usr/local/lib/python3.6/dist-packages (from catboost) (1.1.2)\n",
            "Requirement already satisfied: numpy>=1.16.0 in /usr/local/lib/python3.6/dist-packages (from catboost) (1.18.5)\n",
            "Requirement already satisfied: matplotlib in /usr/local/lib/python3.6/dist-packages (from catboost) (3.2.2)\n",
            "Requirement already satisfied: scipy in /usr/local/lib/python3.6/dist-packages (from catboost) (1.4.1)\n",
            "Requirement already satisfied: six in /usr/local/lib/python3.6/dist-packages (from catboost) (1.15.0)\n",
            "Requirement already satisfied: plotly in /usr/local/lib/python3.6/dist-packages (from catboost) (4.4.1)\n",
            "Requirement already satisfied: graphviz in /usr/local/lib/python3.6/dist-packages (from catboost) (0.10.1)\n",
            "Requirement already satisfied: pytz>=2017.2 in /usr/local/lib/python3.6/dist-packages (from pandas>=0.24.0->catboost) (2018.9)\n",
            "Requirement already satisfied: python-dateutil>=2.7.3 in /usr/local/lib/python3.6/dist-packages (from pandas>=0.24.0->catboost) (2.8.1)\n",
            "Requirement already satisfied: pyparsing!=2.0.4,!=2.1.2,!=2.1.6,>=2.0.1 in /usr/local/lib/python3.6/dist-packages (from matplotlib->catboost) (2.4.7)\n",
            "Requirement already satisfied: cycler>=0.10 in /usr/local/lib/python3.6/dist-packages (from matplotlib->catboost) (0.10.0)\n",
            "Requirement already satisfied: kiwisolver>=1.0.1 in /usr/local/lib/python3.6/dist-packages (from matplotlib->catboost) (1.2.0)\n",
            "Requirement already satisfied: retrying>=1.3.3 in /usr/local/lib/python3.6/dist-packages (from plotly->catboost) (1.3.3)\n",
            "Installing collected packages: catboost\n",
            "Successfully installed catboost-0.24.1\n"
          ],
          "name": "stdout"
        }
      ]
    },
    {
      "cell_type": "code",
      "metadata": {
        "id": "ZlNg6lpxTR10"
      },
      "source": [
        "Train=pd.read_csv('Train.csv')\n",
        "Test=pd.read_csv('Test.csv')\n",
        "sample=pd.read_csv('SampleSubmission.csv')"
      ],
      "execution_count": 95,
      "outputs": []
    },
    {
      "cell_type": "code",
      "metadata": {
        "id": "jqjKP3_BRnOK"
      },
      "source": [
        "submission=pd.read_csv('SampleSubmission.csv')"
      ],
      "execution_count": 131,
      "outputs": []
    },
    {
      "cell_type": "code",
      "metadata": {
        "id": "vYUZKi67p5xA",
        "outputId": "87818d4a-10c5-48c1-f70b-39aefc332a43",
        "colab": {
          "base_uri": "https://localhost:8080/",
          "height": 97
        }
      },
      "source": [
        "def_obj={'default_status':{'yes':1,'no':0}}\n",
        "Train.replace(def_obj,inplace=True)\n",
        "Test.sample()"
      ],
      "execution_count": 96,
      "outputs": [
        {
          "output_type": "execute_result",
          "data": {
            "text/html": [
              "<div>\n",
              "<style scoped>\n",
              "    .dataframe tbody tr th:only-of-type {\n",
              "        vertical-align: middle;\n",
              "    }\n",
              "\n",
              "    .dataframe tbody tr th {\n",
              "        vertical-align: top;\n",
              "    }\n",
              "\n",
              "    .dataframe thead th {\n",
              "        text-align: right;\n",
              "    }\n",
              "</style>\n",
              "<table border=\"1\" class=\"dataframe\">\n",
              "  <thead>\n",
              "    <tr style=\"text-align: right;\">\n",
              "      <th></th>\n",
              "      <th>Applicant_ID</th>\n",
              "      <th>form_field1</th>\n",
              "      <th>form_field2</th>\n",
              "      <th>form_field3</th>\n",
              "      <th>form_field4</th>\n",
              "      <th>form_field5</th>\n",
              "      <th>form_field6</th>\n",
              "      <th>form_field7</th>\n",
              "      <th>form_field8</th>\n",
              "      <th>form_field9</th>\n",
              "      <th>form_field10</th>\n",
              "      <th>form_field11</th>\n",
              "      <th>form_field12</th>\n",
              "      <th>form_field13</th>\n",
              "      <th>form_field14</th>\n",
              "      <th>form_field15</th>\n",
              "      <th>form_field16</th>\n",
              "      <th>form_field17</th>\n",
              "      <th>form_field18</th>\n",
              "      <th>form_field19</th>\n",
              "      <th>form_field20</th>\n",
              "      <th>form_field21</th>\n",
              "      <th>form_field22</th>\n",
              "      <th>form_field23</th>\n",
              "      <th>form_field24</th>\n",
              "      <th>form_field25</th>\n",
              "      <th>form_field26</th>\n",
              "      <th>form_field27</th>\n",
              "      <th>form_field28</th>\n",
              "      <th>form_field29</th>\n",
              "      <th>form_field30</th>\n",
              "      <th>form_field31</th>\n",
              "      <th>form_field32</th>\n",
              "      <th>form_field33</th>\n",
              "      <th>form_field34</th>\n",
              "      <th>form_field35</th>\n",
              "      <th>form_field36</th>\n",
              "      <th>form_field37</th>\n",
              "      <th>form_field38</th>\n",
              "      <th>form_field39</th>\n",
              "      <th>form_field40</th>\n",
              "      <th>form_field41</th>\n",
              "      <th>form_field42</th>\n",
              "      <th>form_field43</th>\n",
              "      <th>form_field44</th>\n",
              "      <th>form_field45</th>\n",
              "      <th>form_field46</th>\n",
              "      <th>form_field47</th>\n",
              "      <th>form_field48</th>\n",
              "      <th>form_field49</th>\n",
              "      <th>form_field50</th>\n",
              "    </tr>\n",
              "  </thead>\n",
              "  <tbody>\n",
              "    <tr>\n",
              "      <th>9111</th>\n",
              "      <td>Apcnt_1120988</td>\n",
              "      <td>NaN</td>\n",
              "      <td>0.41305</td>\n",
              "      <td>0.3566</td>\n",
              "      <td>0.0</td>\n",
              "      <td>0.0</td>\n",
              "      <td>NaN</td>\n",
              "      <td>NaN</td>\n",
              "      <td>NaN</td>\n",
              "      <td>NaN</td>\n",
              "      <td>0.0</td>\n",
              "      <td>43957.0</td>\n",
              "      <td>NaN</td>\n",
              "      <td>NaN</td>\n",
              "      <td>96375139</td>\n",
              "      <td>37554060.0</td>\n",
              "      <td>NaN</td>\n",
              "      <td>NaN</td>\n",
              "      <td>NaN</td>\n",
              "      <td>0.0</td>\n",
              "      <td>0.0</td>\n",
              "      <td>NaN</td>\n",
              "      <td>NaN</td>\n",
              "      <td>NaN</td>\n",
              "      <td>NaN</td>\n",
              "      <td>NaN</td>\n",
              "      <td>NaN</td>\n",
              "      <td>NaN</td>\n",
              "      <td>60.0</td>\n",
              "      <td>729.0</td>\n",
              "      <td>NaN</td>\n",
              "      <td>NaN</td>\n",
              "      <td>NaN</td>\n",
              "      <td>NaN</td>\n",
              "      <td>0.0</td>\n",
              "      <td>NaN</td>\n",
              "      <td>4.0</td>\n",
              "      <td>NaN</td>\n",
              "      <td>4.0</td>\n",
              "      <td>NaN</td>\n",
              "      <td>NaN</td>\n",
              "      <td>NaN</td>\n",
              "      <td>2.2</td>\n",
              "      <td>0.0</td>\n",
              "      <td>NaN</td>\n",
              "      <td>NaN</td>\n",
              "      <td>NaN</td>\n",
              "      <td>charge</td>\n",
              "      <td>NaN</td>\n",
              "      <td>0.0</td>\n",
              "      <td>NaN</td>\n",
              "    </tr>\n",
              "  </tbody>\n",
              "</table>\n",
              "</div>"
            ],
            "text/plain": [
              "       Applicant_ID  form_field1  ...  form_field49  form_field50\n",
              "9111  Apcnt_1120988          NaN  ...           0.0           NaN\n",
              "\n",
              "[1 rows x 51 columns]"
            ]
          },
          "metadata": {
            "tags": []
          },
          "execution_count": 96
        }
      ]
    },
    {
      "cell_type": "code",
      "metadata": {
        "id": "3G71w4vqWVKf"
      },
      "source": [
        "##transforming features\n",
        "df_abj={\"form_field47\":{\"charge\":0,\"lending\":1}}\n",
        "Train.replace(df_abj,inplace=True)\n",
        "Test.replace(df_abj,inplace=True)"
      ],
      "execution_count": 97,
      "outputs": []
    },
    {
      "cell_type": "code",
      "metadata": {
        "id": "VDy-G3czWVgc"
      },
      "source": [
        "#useless=['Applicant_ID']\n",
        "#train.drop(columns=(i for i in useless),inplace=True)\n",
        "#test.drop(columns=(i for i in useless), inplace=True)"
      ],
      "execution_count": 98,
      "outputs": []
    },
    {
      "cell_type": "code",
      "metadata": {
        "id": "rkCLFPc7LQNN"
      },
      "source": [
        "\n",
        "minus_999999 = Train.select_dtypes(float)\n",
        "\n",
        "for col in minus_999999:\n",
        "    Train[col].fillna(-999, inplace=True)\n",
        "    Test[col].fillna(-999, inplace=True)"
      ],
      "execution_count": 99,
      "outputs": []
    },
    {
      "cell_type": "code",
      "metadata": {
        "id": "wb39B_e6d6TV"
      },
      "source": [
        "\n",
        "def lgb_predict(estimator,train,label,test,estimator_name):\n",
        "    mean_train = []\n",
        "    mean_test_val = []\n",
        "    test_pred = np.zeros(test.shape[0])\n",
        "    val_pred = np.zeros(train.shape[0])\n",
        "    for count, (train_index,test_index) in enumerate(skf.split(train,label)):\n",
        "        x_train,x_test = train.iloc[train_index],train.iloc[test_index]\n",
        "        y_train,y_test = label.iloc[train_index],label.iloc[test_index]\n",
        "        print(f'========================Fold{count +1}==========================')\n",
        "        estimator.fit(x_train,y_train,eval_set=[(x_test,y_test)],early_stopping_rounds=200,\n",
        "                               verbose=250)\n",
        "        train_predict = estimator.predict_proba(x_train, num_iteration = estimator.best_iteration_)[:,1]\n",
        "        test_predict = estimator.predict_proba(x_test, num_iteration = estimator.best_iteration_)[:,1]\n",
        "        val_pred[test_index] = test_predict\n",
        "        test_pred+= estimator.predict_proba(test, num_iteration = estimator.best_iteration_)[:,1]\n",
        "        \n",
        "        print('\\nValidation scores', roc_auc_score(y_test,test_predict))\n",
        "        print('\\nTraining scores', roc_auc_score(y_train,train_predict))\n",
        "        mean_train.append(roc_auc_score(y_train, train_predict))\n",
        "        mean_test_val.append(roc_auc_score(y_test,test_predict))\n",
        "    print('Average Testing ROC score for 10 folds split:',np.mean(mean_test_val))\n",
        "    print('Average Training ROC score for 10 folds split:',np.mean(mean_train))\n",
        "    print('standard Deviation for 10 folds split:',np.std(mean_test_val))\n",
        "    return val_pred, test_pred, estimator_name\n",
        "\n",
        "\n",
        "def xgb_predict(estimator,train,label,test,estimator_name):\n",
        "    mean_train = []\n",
        "    mean_test_val = []\n",
        "    test_pred = np.zeros(test.shape[0])\n",
        "    val_pred = np.zeros(train.shape[0])\n",
        "    for count, (train_index,test_index) in enumerate(skf.split(train,label)):\n",
        "        x_train,x_test = train.iloc[train_index],train.iloc[test_index]\n",
        "        y_train,y_test = label.iloc[train_index],label.iloc[test_index]\n",
        "        print(f'========================Fold{count +1}==========================')\n",
        "        estimator.fit(x_train, y_train, early_stopping_rounds = 200, eval_metric=\"auc\",\n",
        "                           eval_set=[(x_test, y_test)],verbose=250)\n",
        "        train_predict = estimator.predict_proba(x_train, ntree_limit = estimator.get_booster().best_ntree_limit)[:,1]\n",
        "        test_predict = estimator.predict_proba(x_test, ntree_limit = estimator.get_booster().best_ntree_limit)[:,1]\n",
        "        val_pred[test_index] = test_predict\n",
        "        test_pred+= estimator.predict_proba(test, ntree_limit = estimator.get_booster().best_ntree_limit)[:,1]\n",
        "        \n",
        "        print('\\nTesting scores', roc_auc_score(y_test,test_predict))\n",
        "        print('\\nTraining scores', roc_auc_score(y_train,train_predict))\n",
        "        mean_train.append(roc_auc_score(y_train, train_predict))\n",
        "        mean_test_val.append(roc_auc_score(y_test,test_predict))\n",
        "    print('Average Testing ROC score for 10 folds split:',np.mean(mean_test_val))\n",
        "    print('Average Training ROC score for 10 folds split:',np.mean(mean_train))\n",
        "    print('standard Deviation for 10 folds split:',np.std(mean_test_val))\n",
        "    return val_pred, test_pred, estimator_name\n",
        "\n",
        "def cat_predict(estimator,train,label,test,estimator_name):\n",
        "    mean_train = []\n",
        "    mean_test_val = []\n",
        "    test_pred = np.zeros(test.shape[0])\n",
        "    val_pred = np.zeros(train.shape[0])\n",
        "    for count, (train_index,test_index) in enumerate(skf.split(train,label)):\n",
        "        x_train,x_test = train.iloc[train_index],train.iloc[test_index]\n",
        "        y_train,y_test = label.iloc[train_index],label.iloc[test_index]\n",
        "        print(f'========================Fold{count +1}==========================')\n",
        "        estimator.fit(x_train,y_train,eval_set=[(x_test,y_test)],early_stopping_rounds=200,\n",
        "                           verbose=250,use_best_model=True)\n",
        "        train_predict = estimator.predict_proba(x_train)[:,1]\n",
        "        test_predict = estimator.predict_proba(x_test)[:,1]\n",
        "        val_pred[test_index] = test_predict\n",
        "        test_pred+= estimator.predict_proba(test)[:,1]\n",
        "        \n",
        "        print('\\nTesting scores', roc_auc_score(y_test,test_predict))\n",
        "        print('\\nTraining scores', roc_auc_score(y_train,train_predict))\n",
        "        mean_train.append(roc_auc_score(y_train, train_predict))\n",
        "        mean_test_val.append(roc_auc_score(y_test,test_predict))\n",
        "    print('Average Testing ROC score for 10 folds split:',np.mean(mean_test_val))\n",
        "    print('Average Training ROC score for 10 folds split:',np.mean(mean_train))\n",
        "    print('standard Deviation for 10 folds split:',np.std(mean_test_val))\n",
        "    return val_pred, test_pred, estimator_name\n",
        "\n",
        "\n",
        "def model_predict(estimator,train,label,test, estimator_name):\n",
        "    mean_train = []\n",
        "    mean_test_val = []\n",
        "    test_pred = np.zeros(test.shape[0])\n",
        "    val_pred = np.zeros(train.shape[0])\n",
        "    for count, (train_index,test_index) in enumerate(skf.split(train,label)):\n",
        "        x_train,x_test = train.iloc[train_index],train.iloc[test_index]\n",
        "        y_train,y_test = label.iloc[train_index],label.iloc[test_index]\n",
        "        print(f'========================Fold{count +1}==========================')\n",
        "        estimator.fit(x_train, y_train)\n",
        "        train_predict = estimator.predict_proba(x_train)[:,1]\n",
        "        test_predict = estimator.predict_proba(x_test)[:,1]\n",
        "        val_pred[test_index] = test_predict\n",
        "        test_pred+= estimator.predict_proba(test)[:,1]\n",
        "        \n",
        "        print('\\nValidation scores', roc_auc_score(y_test,test_predict))\n",
        "        print('\\nTraining scores', roc_auc_score(y_train,train_predict))\n",
        "        mean_train.append(roc_auc_score(y_train, train_predict))\n",
        "        mean_test_val.append(roc_auc_score(y_test,test_predict))\n",
        "    print('Average Testing ROC score for 10 folds split:',np.mean(mean_test_val))\n",
        "    print('Average Training ROC score for 10 folds split:',np.mean(mean_train))\n",
        "    print('standard Deviation for 10 folds split:',np.std(mean_test_val))\n",
        "    return val_pred, test_pred, estimator_name\n",
        "        \n",
        "def Stack(meta_estimator,Train_stack,Test_stack,target,file_name):\n",
        "    \n",
        "    prediction = meta_estimator.fit(Train_stack, target).predict(Test_stack)\n",
        "    submission['default_status'] = prediction\n",
        "    #LB: 0.845389667\n",
        "    submission.to_csv(file_name,index=False)"
      ],
      "execution_count": 100,
      "outputs": []
    },
    {
      "cell_type": "code",
      "metadata": {
        "id": "-Z_iFwjAd6ZN",
        "outputId": "5fab64df-1cbf-48fc-95e3-32d039202be5",
        "colab": {
          "base_uri": "https://localhost:8080/",
          "height": 958
        }
      },
      "source": [
        "\n",
        "#percentage of missing values each feature has..\n",
        "miss_percentage = Train.isnull().sum()/Train.shape[0]\n",
        "miss_percentage"
      ],
      "execution_count": 101,
      "outputs": [
        {
          "output_type": "execute_result",
          "data": {
            "text/plain": [
              "Applicant_ID      0.0\n",
              "form_field1       0.0\n",
              "form_field2       0.0\n",
              "form_field3       0.0\n",
              "form_field4       0.0\n",
              "form_field5       0.0\n",
              "form_field6       0.0\n",
              "form_field7       0.0\n",
              "form_field8       0.0\n",
              "form_field9       0.0\n",
              "form_field10      0.0\n",
              "form_field11      0.0\n",
              "form_field12      0.0\n",
              "form_field13      0.0\n",
              "form_field14      0.0\n",
              "form_field15      0.0\n",
              "form_field16      0.0\n",
              "form_field17      0.0\n",
              "form_field18      0.0\n",
              "form_field19      0.0\n",
              "form_field20      0.0\n",
              "form_field21      0.0\n",
              "form_field22      0.0\n",
              "form_field23      0.0\n",
              "form_field24      0.0\n",
              "form_field25      0.0\n",
              "form_field26      0.0\n",
              "form_field27      0.0\n",
              "form_field28      0.0\n",
              "form_field29      0.0\n",
              "form_field30      0.0\n",
              "form_field31      0.0\n",
              "form_field32      0.0\n",
              "form_field33      0.0\n",
              "form_field34      0.0\n",
              "form_field35      0.0\n",
              "form_field36      0.0\n",
              "form_field37      0.0\n",
              "form_field38      0.0\n",
              "form_field39      0.0\n",
              "form_field40      0.0\n",
              "form_field41      0.0\n",
              "form_field42      0.0\n",
              "form_field43      0.0\n",
              "form_field44      0.0\n",
              "form_field45      0.0\n",
              "form_field46      0.0\n",
              "form_field47      0.0\n",
              "form_field48      0.0\n",
              "form_field49      0.0\n",
              "form_field50      0.0\n",
              "default_status    0.0\n",
              "dtype: float64"
            ]
          },
          "metadata": {
            "tags": []
          },
          "execution_count": 101
        }
      ]
    },
    {
      "cell_type": "code",
      "metadata": {
        "id": "_jfQYcEld6es",
        "outputId": "96de4fae-f4b0-4f02-85a2-4b1a95525fca",
        "colab": {
          "base_uri": "https://localhost:8080/",
          "height": 300
        }
      },
      "source": [
        "#countplot of form_field47 feature..\n",
        "sns.countplot(x='form_field47',data=Train)"
      ],
      "execution_count": 102,
      "outputs": [
        {
          "output_type": "execute_result",
          "data": {
            "text/plain": [
              "<matplotlib.axes._subplots.AxesSubplot at 0x7fe0288e5b70>"
            ]
          },
          "metadata": {
            "tags": []
          },
          "execution_count": 102
        },
        {
          "output_type": "display_data",
          "data": {
            "image/png": "[encoded data removed]",
            "text/plain": [
              "<Figure size 432x288 with 1 Axes>"
            ]
          },
          "metadata": {
            "tags": []
          }
        }
      ]
    },
    {
      "cell_type": "code",
      "metadata": {
        "id": "No24-ispd6mr"
      },
      "source": [
        "from sklearn.model_selection import StratifiedKFold\n",
        "from sklearn.metrics import roc_auc_score\n",
        "skf = StratifiedKFold(n_splits = 10,shuffle=True,random_state=199)"
      ],
      "execution_count": 103,
      "outputs": []
    },
    {
      "cell_type": "code",
      "metadata": {
        "id": "kioQqOZugxiX"
      },
      "source": [
        "train = Train.drop([\"Applicant_ID\",\"default_status\"],1)\n",
        "target = Train[\"default_status\"]\n",
        "\n",
        "test = Test.drop([\"Applicant_ID\"],1)"
      ],
      "execution_count": 105,
      "outputs": []
    },
    {
      "cell_type": "code",
      "metadata": {
        "id": "VpwYTIjzhDup",
        "outputId": "00760ac9-0ae7-4a32-f4ee-9a28c36c62e9",
        "colab": {
          "base_uri": "https://localhost:8080/",
          "height": 230
        }
      },
      "source": [
        "target"
      ],
      "execution_count": 107,
      "outputs": [
        {
          "output_type": "execute_result",
          "data": {
            "text/plain": [
              "0        0\n",
              "1        0\n",
              "2        1\n",
              "3        0\n",
              "4        0\n",
              "        ..\n",
              "55995    0\n",
              "55996    1\n",
              "55997    0\n",
              "55998    0\n",
              "55999    0\n",
              "Name: default_status, Length: 56000, dtype: int64"
            ]
          },
          "metadata": {
            "tags": []
          },
          "execution_count": 107
        }
      ]
    },
    {
      "cell_type": "markdown",
      "metadata": {
        "id": "YeW-db3XP1rW"
      },
      "source": [
        "\n",
        "MODEL 1: LIGHTGBM(1"
      ]
    },
    {
      "cell_type": "code",
      "metadata": {
        "id": "gmy-xbedd6kg",
        "outputId": "12cfc7fe-87e2-422e-ee7b-a62259edb9b6",
        "colab": {
          "base_uri": "https://localhost:8080/",
          "height": 1000
        }
      },
      "source": [
        "import lightgbm as lgbm\n",
        "lgb_model = lgbm.LGBMClassifier(random_state=34, n_estimators=5000,colsample_bytree=0.9,min_child_samples=10,\n",
        "    subsample=0.7,subsample_freq=2,num_leaves=120,reg_lambda=2,reg_alpha=5 ,metric='auc', learning_rate=0.008,\n",
        "    max_depth=5)\n",
        "LGB1__train, LGB1_test, LGB1_name =lgb_predict(lgb_model,train, target, test,'lightgbm(1)')"
      ],
      "execution_count": 108,
      "outputs": [
        {
          "output_type": "stream",
          "text": [
            "========================Fold1==========================\n",
            "Training until validation scores don't improve for 200 rounds.\n",
            "[250]\tvalid_0's auc: 0.826855\n",
            "[500]\tvalid_0's auc: 0.83038\n",
            "[750]\tvalid_0's auc: 0.832541\n",
            "[1000]\tvalid_0's auc: 0.833442\n",
            "[1250]\tvalid_0's auc: 0.833827\n",
            "[1500]\tvalid_0's auc: 0.834195\n",
            "[1750]\tvalid_0's auc: 0.834427\n",
            "[2000]\tvalid_0's auc: 0.834587\n",
            "Early stopping, best iteration is:\n",
            "[2049]\tvalid_0's auc: 0.834657\n",
            "\n",
            "Validation scores 0.8346566438293199\n",
            "\n",
            "Training scores 0.8808643431939369\n",
            "========================Fold2==========================\n",
            "Training until validation scores don't improve for 200 rounds.\n",
            "[250]\tvalid_0's auc: 0.829021\n",
            "[500]\tvalid_0's auc: 0.833273\n",
            "[750]\tvalid_0's auc: 0.835423\n",
            "[1000]\tvalid_0's auc: 0.836568\n",
            "[1250]\tvalid_0's auc: 0.837\n",
            "[1500]\tvalid_0's auc: 0.837063\n",
            "[1750]\tvalid_0's auc: 0.837262\n",
            "[2000]\tvalid_0's auc: 0.837115\n",
            "Early stopping, best iteration is:\n",
            "[1839]\tvalid_0's auc: 0.837296\n",
            "\n",
            "Validation scores 0.8372961933673557\n",
            "\n",
            "Training scores 0.877270941731195\n",
            "========================Fold3==========================\n",
            "Training until validation scores don't improve for 200 rounds.\n",
            "[250]\tvalid_0's auc: 0.829627\n",
            "[500]\tvalid_0's auc: 0.835332\n",
            "[750]\tvalid_0's auc: 0.838689\n",
            "[1000]\tvalid_0's auc: 0.840551\n",
            "[1250]\tvalid_0's auc: 0.841798\n",
            "[1500]\tvalid_0's auc: 0.842442\n",
            "[1750]\tvalid_0's auc: 0.842876\n",
            "[2000]\tvalid_0's auc: 0.842827\n",
            "Early stopping, best iteration is:\n",
            "[1855]\tvalid_0's auc: 0.843013\n",
            "\n",
            "Validation scores 0.8430130326896068\n",
            "\n",
            "Training scores 0.8772234060856662\n",
            "========================Fold4==========================\n",
            "Training until validation scores don't improve for 200 rounds.\n",
            "[250]\tvalid_0's auc: 0.83777\n",
            "[500]\tvalid_0's auc: 0.842672\n",
            "[750]\tvalid_0's auc: 0.844927\n",
            "[1000]\tvalid_0's auc: 0.846554\n",
            "[1250]\tvalid_0's auc: 0.847349\n",
            "[1500]\tvalid_0's auc: 0.84805\n",
            "[1750]\tvalid_0's auc: 0.848363\n",
            "[2000]\tvalid_0's auc: 0.848457\n",
            "[2250]\tvalid_0's auc: 0.848311\n",
            "Early stopping, best iteration is:\n",
            "[2072]\tvalid_0's auc: 0.848506\n",
            "\n",
            "Validation scores 0.8485058276541797\n",
            "\n",
            "Training scores 0.8802866490215804\n",
            "========================Fold5==========================\n",
            "Training until validation scores don't improve for 200 rounds.\n",
            "[250]\tvalid_0's auc: 0.829365\n",
            "[500]\tvalid_0's auc: 0.834247\n",
            "[750]\tvalid_0's auc: 0.837548\n",
            "[1000]\tvalid_0's auc: 0.839475\n",
            "[1250]\tvalid_0's auc: 0.840256\n",
            "[1500]\tvalid_0's auc: 0.840829\n",
            "[1750]\tvalid_0's auc: 0.840913\n",
            "[2000]\tvalid_0's auc: 0.841214\n",
            "[2250]\tvalid_0's auc: 0.841115\n",
            "Early stopping, best iteration is:\n",
            "[2068]\tvalid_0's auc: 0.841282\n",
            "\n",
            "Validation scores 0.8412820787452965\n",
            "\n",
            "Training scores 0.8804935010839843\n",
            "========================Fold6==========================\n",
            "Training until validation scores don't improve for 200 rounds.\n",
            "[250]\tvalid_0's auc: 0.838419\n",
            "[500]\tvalid_0's auc: 0.842683\n",
            "[750]\tvalid_0's auc: 0.844721\n",
            "[1000]\tvalid_0's auc: 0.845765\n",
            "[1250]\tvalid_0's auc: 0.846321\n",
            "[1500]\tvalid_0's auc: 0.846702\n",
            "Early stopping, best iteration is:\n",
            "[1438]\tvalid_0's auc: 0.846742\n",
            "\n",
            "Validation scores 0.8467415618768117\n",
            "\n",
            "Training scores 0.8695932029074678\n",
            "========================Fold7==========================\n",
            "Training until validation scores don't improve for 200 rounds.\n",
            "[250]\tvalid_0's auc: 0.819784\n",
            "[500]\tvalid_0's auc: 0.827082\n",
            "[750]\tvalid_0's auc: 0.830993\n",
            "[1000]\tvalid_0's auc: 0.833273\n",
            "[1250]\tvalid_0's auc: 0.834777\n",
            "[1500]\tvalid_0's auc: 0.835773\n",
            "[1750]\tvalid_0's auc: 0.836534\n",
            "[2000]\tvalid_0's auc: 0.837093\n",
            "[2250]\tvalid_0's auc: 0.837421\n",
            "[2500]\tvalid_0's auc: 0.837636\n",
            "[2750]\tvalid_0's auc: 0.837891\n",
            "Early stopping, best iteration is:\n",
            "[2698]\tvalid_0's auc: 0.837942\n",
            "\n",
            "Validation scores 0.8379415930448406\n",
            "\n",
            "Training scores 0.8902289653228086\n",
            "========================Fold8==========================\n",
            "Training until validation scores don't improve for 200 rounds.\n",
            "[250]\tvalid_0's auc: 0.823165\n",
            "[500]\tvalid_0's auc: 0.827728\n",
            "[750]\tvalid_0's auc: 0.830784\n",
            "[1000]\tvalid_0's auc: 0.832514\n",
            "[1250]\tvalid_0's auc: 0.833215\n",
            "[1500]\tvalid_0's auc: 0.833742\n",
            "[1750]\tvalid_0's auc: 0.833871\n",
            "[2000]\tvalid_0's auc: 0.834171\n",
            "[2250]\tvalid_0's auc: 0.834169\n",
            "Early stopping, best iteration is:\n",
            "[2163]\tvalid_0's auc: 0.834247\n",
            "\n",
            "Validation scores 0.8342472852095291\n",
            "\n",
            "Training scores 0.8823745059717399\n",
            "========================Fold9==========================\n",
            "Training until validation scores don't improve for 200 rounds.\n",
            "[250]\tvalid_0's auc: 0.83161\n",
            "[500]\tvalid_0's auc: 0.836844\n",
            "[750]\tvalid_0's auc: 0.839519\n",
            "[1000]\tvalid_0's auc: 0.840765\n",
            "[1250]\tvalid_0's auc: 0.841454\n",
            "[1500]\tvalid_0's auc: 0.841693\n",
            "[1750]\tvalid_0's auc: 0.84193\n",
            "[2000]\tvalid_0's auc: 0.842021\n",
            "Early stopping, best iteration is:\n",
            "[1970]\tvalid_0's auc: 0.842092\n",
            "\n",
            "Validation scores 0.842092215991681\n",
            "\n",
            "Training scores 0.8793258897881894\n",
            "========================Fold10==========================\n",
            "Training until validation scores don't improve for 200 rounds.\n",
            "[250]\tvalid_0's auc: 0.833184\n",
            "[500]\tvalid_0's auc: 0.838659\n",
            "[750]\tvalid_0's auc: 0.84144\n",
            "[1000]\tvalid_0's auc: 0.843048\n",
            "[1250]\tvalid_0's auc: 0.843901\n",
            "[1500]\tvalid_0's auc: 0.84454\n",
            "[1750]\tvalid_0's auc: 0.844803\n",
            "[2000]\tvalid_0's auc: 0.845089\n",
            "[2250]\tvalid_0's auc: 0.845115\n",
            "Early stopping, best iteration is:\n",
            "[2133]\tvalid_0's auc: 0.845227\n",
            "\n",
            "Validation scores 0.8452274645498151\n",
            "\n",
            "Training scores 0.8814675388810889\n",
            "Average Testing ROC score for 10 folds split: 0.8411003896958436\n",
            "Average Training ROC score for 10 folds split: 0.8799128943987657\n",
            "standard Deviation for 10 folds split: 0.004704336544025402\n"
          ],
          "name": "stdout"
        }
      ]
    },
    {
      "cell_type": "code",
      "metadata": {
        "id": "9A-DMn6-d6ia",
        "outputId": "dc516d37-1ed4-438f-dcd5-3c8aef4207f8",
        "colab": {
          "base_uri": "https://localhost:8080/",
          "height": 1000
        }
      },
      "source": [
        "\n",
        "catboost =  CatBoostClassifier(random_seed=34,use_best_model=True,\n",
        "                          n_estimators=5000,silent=True,eval_metric='AUC')\n",
        "\n",
        "\n",
        "cat1_train, cat1_test, cat1_name = cat_predict(catboost,train, target, test,  'catboost(1)')"
      ],
      "execution_count": 112,
      "outputs": [
        {
          "output_type": "stream",
          "text": [
            "========================Fold1==========================\n",
            "Learning rate set to 0.041434\n",
            "0:\ttest: 0.7957900\tbest: 0.7957900 (0)\ttotal: 92.9ms\tremaining: 7m 44s\n",
            "250:\ttest: 0.8340078\tbest: 0.8340450 (239)\ttotal: 9.77s\tremaining: 3m 4s\n",
            "500:\ttest: 0.8353024\tbest: 0.8354826 (488)\ttotal: 19.3s\tremaining: 2m 53s\n",
            "Stopped by overfitting detector  (200 iterations wait)\n",
            "\n",
            "bestTest = 0.8354826241\n",
            "bestIteration = 488\n",
            "\n",
            "Shrink model to first 489 iterations.\n",
            "\n",
            "Testing scores 0.8354826241441169\n",
            "\n",
            "Training scores 0.8697110849434153\n",
            "========================Fold2==========================\n",
            "Learning rate set to 0.041434\n",
            "0:\ttest: 0.7994374\tbest: 0.7994374 (0)\ttotal: 40.8ms\tremaining: 3m 23s\n",
            "250:\ttest: 0.8356598\tbest: 0.8356932 (249)\ttotal: 9.75s\tremaining: 3m 4s\n",
            "500:\ttest: 0.8360313\tbest: 0.8364142 (419)\ttotal: 19.4s\tremaining: 2m 54s\n",
            "Stopped by overfitting detector  (200 iterations wait)\n",
            "\n",
            "bestTest = 0.8364141588\n",
            "bestIteration = 419\n",
            "\n",
            "Shrink model to first 420 iterations.\n",
            "\n",
            "Testing scores 0.8364141588445175\n",
            "\n",
            "Training scores 0.8650484427832994\n",
            "========================Fold3==========================\n",
            "Learning rate set to 0.041434\n",
            "0:\ttest: 0.7923186\tbest: 0.7923186 (0)\ttotal: 39.6ms\tremaining: 3m 18s\n",
            "250:\ttest: 0.8391800\tbest: 0.8391800 (250)\ttotal: 9.83s\tremaining: 3m 5s\n",
            "500:\ttest: 0.8420831\tbest: 0.8421394 (497)\ttotal: 19.4s\tremaining: 2m 54s\n",
            "750:\ttest: 0.8425986\tbest: 0.8427309 (609)\ttotal: 29s\tremaining: 2m 44s\n",
            "Stopped by overfitting detector  (200 iterations wait)\n",
            "\n",
            "bestTest = 0.8427308644\n",
            "bestIteration = 609\n",
            "\n",
            "Shrink model to first 610 iterations.\n",
            "\n",
            "Testing scores 0.842730864430052\n",
            "\n",
            "Training scores 0.876258133713921\n",
            "========================Fold4==========================\n",
            "Learning rate set to 0.041434\n",
            "0:\ttest: 0.8025848\tbest: 0.8025848 (0)\ttotal: 38.6ms\tremaining: 3m 12s\n",
            "250:\ttest: 0.8459327\tbest: 0.8459329 (242)\ttotal: 9.81s\tremaining: 3m 5s\n",
            "500:\ttest: 0.8478101\tbest: 0.8478244 (496)\ttotal: 19.4s\tremaining: 2m 54s\n",
            "750:\ttest: 0.8482790\tbest: 0.8482790 (750)\ttotal: 29s\tremaining: 2m 44s\n",
            "1000:\ttest: 0.8477375\tbest: 0.8484974 (819)\ttotal: 38.7s\tremaining: 2m 34s\n",
            "Stopped by overfitting detector  (200 iterations wait)\n",
            "\n",
            "bestTest = 0.8484973764\n",
            "bestIteration = 819\n",
            "\n",
            "Shrink model to first 820 iterations.\n",
            "\n",
            "Testing scores 0.848497376404352\n",
            "\n",
            "Training scores 0.8865000850726377\n",
            "========================Fold5==========================\n",
            "Learning rate set to 0.041434\n",
            "0:\ttest: 0.7958699\tbest: 0.7958699 (0)\ttotal: 41.8ms\tremaining: 3m 28s\n",
            "250:\ttest: 0.8393097\tbest: 0.8393224 (249)\ttotal: 9.75s\tremaining: 3m 4s\n",
            "500:\ttest: 0.8404492\tbest: 0.8406493 (472)\ttotal: 19.4s\tremaining: 2m 54s\n",
            "Stopped by overfitting detector  (200 iterations wait)\n",
            "\n",
            "bestTest = 0.8406492699\n",
            "bestIteration = 472\n",
            "\n",
            "Shrink model to first 473 iterations.\n",
            "\n",
            "Testing scores 0.8406492698551334\n",
            "\n",
            "Training scores 0.8675283961753126\n",
            "========================Fold6==========================\n",
            "Learning rate set to 0.041434\n",
            "0:\ttest: 0.8065865\tbest: 0.8065865 (0)\ttotal: 38.7ms\tremaining: 3m 13s\n",
            "250:\ttest: 0.8458042\tbest: 0.8458042 (250)\ttotal: 9.79s\tremaining: 3m 5s\n",
            "500:\ttest: 0.8472961\tbest: 0.8473723 (491)\ttotal: 19.5s\tremaining: 2m 54s\n",
            "750:\ttest: 0.8477776\tbest: 0.8478961 (719)\ttotal: 29.1s\tremaining: 2m 44s\n",
            "1000:\ttest: 0.8479321\tbest: 0.8480122 (989)\ttotal: 38.8s\tremaining: 2m 35s\n",
            "Stopped by overfitting detector  (200 iterations wait)\n",
            "\n",
            "bestTest = 0.8481894616\n",
            "bestIteration = 1025\n",
            "\n",
            "Shrink model to first 1026 iterations.\n",
            "\n",
            "Testing scores 0.8481894616205721\n",
            "\n",
            "Training scores 0.8968599169965017\n",
            "========================Fold7==========================\n",
            "Learning rate set to 0.041434\n",
            "0:\ttest: 0.7928042\tbest: 0.7928042 (0)\ttotal: 39.4ms\tremaining: 3m 17s\n",
            "250:\ttest: 0.8338137\tbest: 0.8338223 (249)\ttotal: 9.81s\tremaining: 3m 5s\n",
            "500:\ttest: 0.8371260\tbest: 0.8371260 (500)\ttotal: 19.4s\tremaining: 2m 54s\n",
            "750:\ttest: 0.8383081\tbest: 0.8384727 (720)\ttotal: 29.2s\tremaining: 2m 45s\n",
            "1000:\ttest: 0.8388504\tbest: 0.8389009 (994)\ttotal: 38.9s\tremaining: 2m 35s\n",
            "Stopped by overfitting detector  (200 iterations wait)\n",
            "\n",
            "bestTest = 0.8389888595\n",
            "bestIteration = 1044\n",
            "\n",
            "Shrink model to first 1045 iterations.\n",
            "\n",
            "Testing scores 0.8389888594983879\n",
            "\n",
            "Training scores 0.8972236371198692\n",
            "========================Fold8==========================\n",
            "Learning rate set to 0.041434\n",
            "0:\ttest: 0.7917517\tbest: 0.7917517 (0)\ttotal: 42.4ms\tremaining: 3m 31s\n",
            "250:\ttest: 0.8331504\tbest: 0.8331857 (248)\ttotal: 9.78s\tremaining: 3m 4s\n",
            "500:\ttest: 0.8348605\tbest: 0.8348805 (498)\ttotal: 19.5s\tremaining: 2m 55s\n",
            "750:\ttest: 0.8349815\tbest: 0.8351084 (744)\ttotal: 29.2s\tremaining: 2m 45s\n",
            "1000:\ttest: 0.8338137\tbest: 0.8351360 (802)\ttotal: 38.9s\tremaining: 2m 35s\n",
            "Stopped by overfitting detector  (200 iterations wait)\n",
            "\n",
            "bestTest = 0.8351359533\n",
            "bestIteration = 802\n",
            "\n",
            "Shrink model to first 803 iterations.\n",
            "\n",
            "Testing scores 0.835135953286572\n",
            "\n",
            "Training scores 0.8863832210425093\n",
            "========================Fold9==========================\n",
            "Learning rate set to 0.041434\n",
            "0:\ttest: 0.7942406\tbest: 0.7942406 (0)\ttotal: 39.5ms\tremaining: 3m 17s\n",
            "250:\ttest: 0.8404845\tbest: 0.8404942 (249)\ttotal: 9.81s\tremaining: 3m 5s\n",
            "500:\ttest: 0.8403980\tbest: 0.8409915 (325)\ttotal: 19.4s\tremaining: 2m 54s\n",
            "Stopped by overfitting detector  (200 iterations wait)\n",
            "\n",
            "bestTest = 0.8409915088\n",
            "bestIteration = 325\n",
            "\n",
            "Shrink model to first 326 iterations.\n",
            "\n",
            "Testing scores 0.8409915087808336\n",
            "\n",
            "Training scores 0.857638624253823\n",
            "========================Fold10==========================\n",
            "Learning rate set to 0.041434\n",
            "0:\ttest: 0.7980195\tbest: 0.7980195 (0)\ttotal: 44.6ms\tremaining: 3m 43s\n",
            "250:\ttest: 0.8420854\tbest: 0.8420982 (249)\ttotal: 9.81s\tremaining: 3m 5s\n",
            "500:\ttest: 0.8440962\tbest: 0.8441942 (468)\ttotal: 19.4s\tremaining: 2m 54s\n",
            "750:\ttest: 0.8448106\tbest: 0.8448601 (744)\ttotal: 29.1s\tremaining: 2m 44s\n",
            "1000:\ttest: 0.8448723\tbest: 0.8450435 (966)\ttotal: 38.8s\tremaining: 2m 35s\n",
            "Stopped by overfitting detector  (200 iterations wait)\n",
            "\n",
            "bestTest = 0.8450435249\n",
            "bestIteration = 966\n",
            "\n",
            "Shrink model to first 967 iterations.\n",
            "\n",
            "Testing scores 0.845043524910978\n",
            "\n",
            "Training scores 0.8941414968972748\n",
            "Average Testing ROC score for 10 folds split: 0.8412123601775514\n",
            "Average Training ROC score for 10 folds split: 0.8797293038998564\n",
            "standard Deviation for 10 folds split: 0.004656395788818262\n"
          ],
          "name": "stdout"
        }
      ]
    },
    {
      "cell_type": "code",
      "metadata": {
        "id": "NYLFwO5Ld6cv",
        "outputId": "5736e013-2e7d-40c2-df8a-97a817dbfbd7",
        "colab": {
          "base_uri": "https://localhost:8080/",
          "height": 1000
        }
      },
      "source": [
        "catboost2 =  CatBoostClassifier(random_seed=34,bootstrap_type='Bayesian',max_depth=6,learning_rate=0.007,\n",
        "                          iterations=8000,silent=True,eval_metric='AUC')\n",
        "\n",
        "\n",
        "cat2_train, cat2_test, cat2_name = cat_predict(catboost2,train, target, test,  'catboost(2)')"
      ],
      "execution_count": 113,
      "outputs": [
        {
          "output_type": "stream",
          "text": [
            "========================Fold1==========================\n",
            "0:\ttest: 0.7935997\tbest: 0.7935997 (0)\ttotal: 44.8ms\tremaining: 5m 58s\n",
            "250:\ttest: 0.8269805\tbest: 0.8269866 (249)\ttotal: 10.5s\tremaining: 5m 24s\n",
            "500:\ttest: 0.8299941\tbest: 0.8299941 (500)\ttotal: 20.6s\tremaining: 5m 8s\n",
            "750:\ttest: 0.8318196\tbest: 0.8318275 (749)\ttotal: 30.6s\tremaining: 4m 55s\n",
            "1000:\ttest: 0.8328814\tbest: 0.8328814 (1000)\ttotal: 40.7s\tremaining: 4m 44s\n",
            "1250:\ttest: 0.8335839\tbest: 0.8335882 (1248)\ttotal: 50.7s\tremaining: 4m 33s\n",
            "1500:\ttest: 0.8341689\tbest: 0.8341775 (1497)\ttotal: 1m\tremaining: 4m 22s\n",
            "1750:\ttest: 0.8346668\tbest: 0.8346754 (1743)\ttotal: 1m 10s\tremaining: 4m 12s\n",
            "2000:\ttest: 0.8350204\tbest: 0.8350204 (2000)\ttotal: 1m 20s\tremaining: 4m 1s\n",
            "2250:\ttest: 0.8352641\tbest: 0.8352686 (2247)\ttotal: 1m 30s\tremaining: 3m 51s\n",
            "2500:\ttest: 0.8353583\tbest: 0.8353660 (2496)\ttotal: 1m 40s\tremaining: 3m 41s\n",
            "2750:\ttest: 0.8355620\tbest: 0.8355690 (2744)\ttotal: 1m 50s\tremaining: 3m 31s\n",
            "3000:\ttest: 0.8356941\tbest: 0.8357022 (2998)\ttotal: 2m\tremaining: 3m 20s\n",
            "3250:\ttest: 0.8358179\tbest: 0.8358486 (3206)\ttotal: 2m 10s\tremaining: 3m 10s\n",
            "3500:\ttest: 0.8359324\tbest: 0.8359487 (3466)\ttotal: 2m 20s\tremaining: 3m 1s\n",
            "3750:\ttest: 0.8360214\tbest: 0.8360347 (3741)\ttotal: 2m 30s\tremaining: 2m 50s\n",
            "4000:\ttest: 0.8360614\tbest: 0.8360913 (3961)\ttotal: 2m 40s\tremaining: 2m 40s\n",
            "4250:\ttest: 0.8361166\tbest: 0.8361780 (4128)\ttotal: 2m 50s\tremaining: 2m 30s\n",
            "Stopped by overfitting detector  (200 iterations wait)\n",
            "\n",
            "bestTest = 0.8361780413\n",
            "bestIteration = 4128\n",
            "\n",
            "Shrink model to first 4129 iterations.\n",
            "\n",
            "Testing scores 0.8361780412727996\n",
            "\n",
            "Training scores 0.8745172909050631\n",
            "========================Fold2==========================\n",
            "0:\ttest: 0.8007765\tbest: 0.8007765 (0)\ttotal: 43.1ms\tremaining: 5m 44s\n",
            "250:\ttest: 0.8281524\tbest: 0.8281524 (250)\ttotal: 10.5s\tremaining: 5m 23s\n",
            "500:\ttest: 0.8316194\tbest: 0.8316194 (500)\ttotal: 20.6s\tremaining: 5m 8s\n",
            "750:\ttest: 0.8334521\tbest: 0.8334536 (749)\ttotal: 30.5s\tremaining: 4m 54s\n",
            "1000:\ttest: 0.8345368\tbest: 0.8345368 (1000)\ttotal: 40.5s\tremaining: 4m 43s\n",
            "1250:\ttest: 0.8352562\tbest: 0.8352612 (1243)\ttotal: 50.6s\tremaining: 4m 32s\n",
            "1500:\ttest: 0.8359045\tbest: 0.8359045 (1500)\ttotal: 1m\tremaining: 4m 21s\n",
            "1750:\ttest: 0.8362108\tbest: 0.8362127 (1748)\ttotal: 1m 10s\tremaining: 4m 11s\n",
            "2000:\ttest: 0.8365377\tbest: 0.8365377 (2000)\ttotal: 1m 20s\tremaining: 4m\n",
            "2250:\ttest: 0.8368334\tbest: 0.8368334 (2250)\ttotal: 1m 30s\tremaining: 3m 50s\n",
            "2500:\ttest: 0.8371204\tbest: 0.8371204 (2500)\ttotal: 1m 40s\tremaining: 3m 40s\n",
            "2750:\ttest: 0.8372817\tbest: 0.8372876 (2741)\ttotal: 1m 50s\tremaining: 3m 30s\n",
            "3000:\ttest: 0.8373572\tbest: 0.8373631 (2992)\ttotal: 2m\tremaining: 3m 20s\n",
            "Stopped by overfitting detector  (200 iterations wait)\n",
            "\n",
            "bestTest = 0.8373936415\n",
            "bestIteration = 3027\n",
            "\n",
            "Shrink model to first 3028 iterations.\n",
            "\n",
            "Testing scores 0.837393641452104\n",
            "\n",
            "Training scores 0.8663048820267053\n",
            "========================Fold3==========================\n",
            "0:\ttest: 0.7923715\tbest: 0.7923715 (0)\ttotal: 42.6ms\tremaining: 5m 40s\n",
            "250:\ttest: 0.8281870\tbest: 0.8281870 (250)\ttotal: 10.4s\tremaining: 5m 22s\n",
            "500:\ttest: 0.8333088\tbest: 0.8333088 (500)\ttotal: 20.5s\tremaining: 5m 7s\n",
            "750:\ttest: 0.8358241\tbest: 0.8358241 (750)\ttotal: 30.6s\tremaining: 4m 55s\n",
            "1000:\ttest: 0.8374935\tbest: 0.8374990 (999)\ttotal: 40.6s\tremaining: 4m 43s\n",
            "1250:\ttest: 0.8388214\tbest: 0.8388214 (1250)\ttotal: 50.5s\tremaining: 4m 32s\n",
            "1500:\ttest: 0.8397051\tbest: 0.8397174 (1495)\ttotal: 1m\tremaining: 4m 21s\n",
            "1750:\ttest: 0.8405268\tbest: 0.8405268 (1750)\ttotal: 1m 10s\tremaining: 4m 11s\n",
            "2000:\ttest: 0.8411700\tbest: 0.8411700 (1997)\ttotal: 1m 20s\tremaining: 4m 1s\n",
            "2250:\ttest: 0.8415154\tbest: 0.8415263 (2245)\ttotal: 1m 30s\tremaining: 3m 50s\n",
            "2500:\ttest: 0.8418619\tbest: 0.8418645 (2496)\ttotal: 1m 40s\tremaining: 3m 40s\n",
            "2750:\ttest: 0.8421707\tbest: 0.8421848 (2738)\ttotal: 1m 50s\tremaining: 3m 30s\n",
            "3000:\ttest: 0.8425085\tbest: 0.8425253 (2992)\ttotal: 2m\tremaining: 3m 20s\n",
            "3250:\ttest: 0.8427524\tbest: 0.8427524 (3250)\ttotal: 2m 10s\tremaining: 3m 10s\n",
            "3500:\ttest: 0.8429275\tbest: 0.8429332 (3491)\ttotal: 2m 20s\tremaining: 3m\n",
            "3750:\ttest: 0.8430330\tbest: 0.8430606 (3725)\ttotal: 2m 30s\tremaining: 2m 50s\n",
            "4000:\ttest: 0.8432224\tbest: 0.8432374 (3991)\ttotal: 2m 40s\tremaining: 2m 40s\n",
            "4250:\ttest: 0.8433775\tbest: 0.8433885 (4234)\ttotal: 2m 50s\tremaining: 2m 30s\n",
            "4500:\ttest: 0.8434397\tbest: 0.8434691 (4431)\ttotal: 3m\tremaining: 2m 20s\n",
            "4750:\ttest: 0.8435280\tbest: 0.8435398 (4625)\ttotal: 3m 10s\tremaining: 2m 10s\n",
            "5000:\ttest: 0.8436255\tbest: 0.8436336 (4998)\ttotal: 3m 20s\tremaining: 2m\n",
            "5250:\ttest: 0.8436769\tbest: 0.8436940 (5240)\ttotal: 3m 30s\tremaining: 1m 50s\n",
            "5500:\ttest: 0.8437105\tbest: 0.8437326 (5457)\ttotal: 3m 40s\tremaining: 1m 40s\n",
            "5750:\ttest: 0.8438030\tbest: 0.8438280 (5734)\ttotal: 3m 50s\tremaining: 1m 30s\n",
            "Stopped by overfitting detector  (200 iterations wait)\n",
            "\n",
            "bestTest = 0.8438279746\n",
            "bestIteration = 5734\n",
            "\n",
            "Shrink model to first 5735 iterations.\n",
            "\n",
            "Testing scores 0.8438279746372819\n",
            "\n",
            "Training scores 0.8854271861496601\n",
            "========================Fold4==========================\n",
            "0:\ttest: 0.8031946\tbest: 0.8031946 (0)\ttotal: 41.8ms\tremaining: 5m 34s\n",
            "250:\ttest: 0.8374524\tbest: 0.8374524 (250)\ttotal: 10.4s\tremaining: 5m 22s\n",
            "500:\ttest: 0.8413556\tbest: 0.8413585 (499)\ttotal: 20.5s\tremaining: 5m 6s\n",
            "750:\ttest: 0.8435330\tbest: 0.8435330 (750)\ttotal: 30.6s\tremaining: 4m 54s\n",
            "1000:\ttest: 0.8448490\tbest: 0.8448578 (998)\ttotal: 40.6s\tremaining: 4m 43s\n",
            "1250:\ttest: 0.8458259\tbest: 0.8458397 (1246)\ttotal: 50.5s\tremaining: 4m 32s\n",
            "1500:\ttest: 0.8464824\tbest: 0.8464824 (1500)\ttotal: 1m\tremaining: 4m 21s\n",
            "1750:\ttest: 0.8470572\tbest: 0.8470572 (1750)\ttotal: 1m 10s\tremaining: 4m 10s\n",
            "2000:\ttest: 0.8474991\tbest: 0.8474991 (2000)\ttotal: 1m 20s\tremaining: 4m\n",
            "2250:\ttest: 0.8477832\tbest: 0.8477990 (2239)\ttotal: 1m 30s\tremaining: 3m 50s\n",
            "2500:\ttest: 0.8481648\tbest: 0.8481648 (2500)\ttotal: 1m 40s\tremaining: 3m 40s\n",
            "2750:\ttest: 0.8483397\tbest: 0.8483480 (2744)\ttotal: 1m 50s\tremaining: 3m 30s\n",
            "3000:\ttest: 0.8485057\tbest: 0.8485165 (2950)\ttotal: 2m\tremaining: 3m 19s\n",
            "3250:\ttest: 0.8486545\tbest: 0.8486545 (3250)\ttotal: 2m 9s\tremaining: 3m 9s\n",
            "3500:\ttest: 0.8487937\tbest: 0.8488046 (3439)\ttotal: 2m 19s\tremaining: 2m 59s\n",
            "3750:\ttest: 0.8488889\tbest: 0.8489105 (3736)\ttotal: 2m 29s\tremaining: 2m 49s\n",
            "4000:\ttest: 0.8489808\tbest: 0.8489820 (3999)\ttotal: 2m 39s\tremaining: 2m 39s\n",
            "Stopped by overfitting detector  (200 iterations wait)\n",
            "\n",
            "bestTest = 0.8490323923\n",
            "bestIteration = 4038\n",
            "\n",
            "Shrink model to first 4039 iterations.\n",
            "\n",
            "Testing scores 0.8490323922607939\n",
            "\n",
            "Training scores 0.8729785445717613\n",
            "========================Fold5==========================\n",
            "0:\ttest: 0.8030466\tbest: 0.8030466 (0)\ttotal: 42.1ms\tremaining: 5m 37s\n",
            "250:\ttest: 0.8295592\tbest: 0.8295592 (250)\ttotal: 10.5s\tremaining: 5m 24s\n",
            "500:\ttest: 0.8332089\tbest: 0.8332089 (500)\ttotal: 20.6s\tremaining: 5m 8s\n",
            "750:\ttest: 0.8353864\tbest: 0.8353864 (750)\ttotal: 30.7s\tremaining: 4m 56s\n",
            "1000:\ttest: 0.8368578\tbest: 0.8368578 (1000)\ttotal: 40.9s\tremaining: 4m 45s\n",
            "1250:\ttest: 0.8377531\tbest: 0.8377531 (1250)\ttotal: 50.9s\tremaining: 4m 34s\n",
            "1500:\ttest: 0.8384411\tbest: 0.8384490 (1499)\ttotal: 1m\tremaining: 4m 23s\n",
            "1750:\ttest: 0.8391601\tbest: 0.8391632 (1745)\ttotal: 1m 10s\tremaining: 4m 12s\n",
            "2000:\ttest: 0.8396938\tbest: 0.8396938 (2000)\ttotal: 1m 20s\tremaining: 4m 2s\n",
            "2250:\ttest: 0.8401707\tbest: 0.8401734 (2249)\ttotal: 1m 30s\tremaining: 3m 51s\n",
            "2500:\ttest: 0.8405184\tbest: 0.8405354 (2485)\ttotal: 1m 40s\tremaining: 3m 41s\n",
            "2750:\ttest: 0.8406220\tbest: 0.8406353 (2745)\ttotal: 1m 50s\tremaining: 3m 31s\n",
            "3000:\ttest: 0.8409073\tbest: 0.8409073 (3000)\ttotal: 2m\tremaining: 3m 20s\n",
            "3250:\ttest: 0.8410353\tbest: 0.8410353 (3250)\ttotal: 2m 10s\tremaining: 3m 10s\n",
            "3500:\ttest: 0.8411732\tbest: 0.8411732 (3500)\ttotal: 2m 20s\tremaining: 3m\n",
            "3750:\ttest: 0.8413274\tbest: 0.8413274 (3750)\ttotal: 2m 30s\tremaining: 2m 50s\n",
            "4000:\ttest: 0.8414304\tbest: 0.8414520 (3991)\ttotal: 2m 40s\tremaining: 2m 40s\n",
            "4250:\ttest: 0.8414684\tbest: 0.8414771 (4206)\ttotal: 2m 50s\tremaining: 2m 30s\n",
            "4500:\ttest: 0.8415185\tbest: 0.8415356 (4487)\ttotal: 3m\tremaining: 2m 20s\n",
            "4750:\ttest: 0.8415227\tbest: 0.8415501 (4714)\ttotal: 3m 10s\tremaining: 2m 10s\n",
            "5000:\ttest: 0.8415622\tbest: 0.8415862 (4982)\ttotal: 3m 20s\tremaining: 2m\n",
            "Stopped by overfitting detector  (200 iterations wait)\n",
            "\n",
            "bestTest = 0.8415861513\n",
            "bestIteration = 4982\n",
            "\n",
            "Shrink model to first 4983 iterations.\n",
            "\n",
            "Testing scores 0.8415861512646088\n",
            "\n",
            "Training scores 0.8805576419019432\n",
            "========================Fold6==========================\n",
            "0:\ttest: 0.8056071\tbest: 0.8056071 (0)\ttotal: 41.1ms\tremaining: 5m 29s\n",
            "250:\ttest: 0.8373236\tbest: 0.8373236 (250)\ttotal: 10.5s\tremaining: 5m 24s\n",
            "500:\ttest: 0.8410176\tbest: 0.8410176 (500)\ttotal: 20.6s\tremaining: 5m 8s\n",
            "750:\ttest: 0.8428611\tbest: 0.8428612 (749)\ttotal: 30.6s\tremaining: 4m 55s\n",
            "1000:\ttest: 0.8442112\tbest: 0.8442112 (1000)\ttotal: 40.6s\tremaining: 4m 43s\n",
            "1250:\ttest: 0.8450547\tbest: 0.8450547 (1250)\ttotal: 50.6s\tremaining: 4m 32s\n",
            "1500:\ttest: 0.8458112\tbest: 0.8458160 (1495)\ttotal: 1m\tremaining: 4m 22s\n",
            "1750:\ttest: 0.8461658\tbest: 0.8461773 (1737)\ttotal: 1m 10s\tremaining: 4m 11s\n",
            "2000:\ttest: 0.8465192\tbest: 0.8465392 (1992)\ttotal: 1m 20s\tremaining: 4m\n",
            "2250:\ttest: 0.8469202\tbest: 0.8469202 (2250)\ttotal: 1m 30s\tremaining: 3m 50s\n",
            "2500:\ttest: 0.8471362\tbest: 0.8471396 (2495)\ttotal: 1m 40s\tremaining: 3m 40s\n",
            "2750:\ttest: 0.8473930\tbest: 0.8473944 (2746)\ttotal: 1m 50s\tremaining: 3m 30s\n",
            "3000:\ttest: 0.8475239\tbest: 0.8475239 (3000)\ttotal: 2m\tremaining: 3m 20s\n",
            "3250:\ttest: 0.8477525\tbest: 0.8477525 (3250)\ttotal: 2m 10s\tremaining: 3m 10s\n",
            "3500:\ttest: 0.8477966\tbest: 0.8478109 (3425)\ttotal: 2m 20s\tremaining: 3m\n",
            "3750:\ttest: 0.8479059\tbest: 0.8479152 (3743)\ttotal: 2m 30s\tremaining: 2m 50s\n",
            "4000:\ttest: 0.8479162\tbest: 0.8480159 (3891)\ttotal: 2m 40s\tremaining: 2m 40s\n",
            "4250:\ttest: 0.8480328\tbest: 0.8480969 (4147)\ttotal: 2m 50s\tremaining: 2m 30s\n",
            "Stopped by overfitting detector  (200 iterations wait)\n",
            "\n",
            "bestTest = 0.8480968884\n",
            "bestIteration = 4147\n",
            "\n",
            "Shrink model to first 4148 iterations.\n",
            "\n",
            "Testing scores 0.8480968884377647\n",
            "\n",
            "Training scores 0.8740119948383688\n",
            "========================Fold7==========================\n",
            "0:\ttest: 0.7905434\tbest: 0.7905434 (0)\ttotal: 42.2ms\tremaining: 5m 37s\n",
            "250:\ttest: 0.8209970\tbest: 0.8209970 (250)\ttotal: 10.5s\tremaining: 5m 24s\n",
            "500:\ttest: 0.8261060\tbest: 0.8261102 (499)\ttotal: 20.6s\tremaining: 5m 8s\n",
            "750:\ttest: 0.8288468\tbest: 0.8288468 (750)\ttotal: 30.6s\tremaining: 4m 55s\n",
            "1000:\ttest: 0.8306976\tbest: 0.8306976 (1000)\ttotal: 40.6s\tremaining: 4m 43s\n",
            "1250:\ttest: 0.8320309\tbest: 0.8320309 (1250)\ttotal: 50.6s\tremaining: 4m 32s\n",
            "1500:\ttest: 0.8330095\tbest: 0.8330097 (1499)\ttotal: 1m\tremaining: 4m 22s\n",
            "1750:\ttest: 0.8339079\tbest: 0.8339094 (1748)\ttotal: 1m 10s\tremaining: 4m 11s\n",
            "2000:\ttest: 0.8345907\tbest: 0.8345928 (1997)\ttotal: 1m 20s\tremaining: 4m 1s\n",
            "2250:\ttest: 0.8351784\tbest: 0.8351784 (2250)\ttotal: 1m 30s\tremaining: 3m 51s\n",
            "2500:\ttest: 0.8356564\tbest: 0.8356581 (2496)\ttotal: 1m 40s\tremaining: 3m 41s\n",
            "2750:\ttest: 0.8360338\tbest: 0.8360353 (2747)\ttotal: 1m 50s\tremaining: 3m 30s\n",
            "3000:\ttest: 0.8363077\tbest: 0.8363094 (2998)\ttotal: 2m\tremaining: 3m 20s\n",
            "3250:\ttest: 0.8366120\tbest: 0.8366180 (3246)\ttotal: 2m 10s\tremaining: 3m 10s\n",
            "3500:\ttest: 0.8369588\tbest: 0.8369641 (3482)\ttotal: 2m 20s\tremaining: 3m\n",
            "3750:\ttest: 0.8371333\tbest: 0.8371381 (3749)\ttotal: 2m 30s\tremaining: 2m 50s\n",
            "4000:\ttest: 0.8373777\tbest: 0.8373810 (3994)\ttotal: 2m 40s\tremaining: 2m 40s\n",
            "4250:\ttest: 0.8375668\tbest: 0.8375801 (4245)\ttotal: 2m 50s\tremaining: 2m 30s\n",
            "4500:\ttest: 0.8377146\tbest: 0.8377146 (4500)\ttotal: 3m\tremaining: 2m 20s\n",
            "4750:\ttest: 0.8379202\tbest: 0.8379250 (4749)\ttotal: 3m 10s\tremaining: 2m 10s\n",
            "5000:\ttest: 0.8379402\tbest: 0.8379783 (4903)\ttotal: 3m 20s\tremaining: 2m\n",
            "5250:\ttest: 0.8380961\tbest: 0.8380967 (5226)\ttotal: 3m 30s\tremaining: 1m 50s\n",
            "5500:\ttest: 0.8382297\tbest: 0.8382390 (5448)\ttotal: 3m 41s\tremaining: 1m 40s\n",
            "Stopped by overfitting detector  (200 iterations wait)\n",
            "\n",
            "bestTest = 0.838268616\n",
            "bestIteration = 5525\n",
            "\n",
            "Shrink model to first 5526 iterations.\n",
            "\n",
            "Testing scores 0.8382686160016106\n",
            "\n",
            "Training scores 0.8843749602637154\n",
            "========================Fold8==========================\n",
            "0:\ttest: 0.7927206\tbest: 0.7927206 (0)\ttotal: 41.3ms\tremaining: 5m 30s\n",
            "250:\ttest: 0.8222386\tbest: 0.8222386 (250)\ttotal: 10.4s\tremaining: 5m 22s\n",
            "500:\ttest: 0.8264308\tbest: 0.8264308 (500)\ttotal: 20.5s\tremaining: 5m 7s\n",
            "750:\ttest: 0.8285312\tbest: 0.8285312 (750)\ttotal: 30.6s\tremaining: 4m 54s\n",
            "1000:\ttest: 0.8299965\tbest: 0.8299984 (998)\ttotal: 40.5s\tremaining: 4m 43s\n",
            "1250:\ttest: 0.8312598\tbest: 0.8312598 (1250)\ttotal: 50.7s\tremaining: 4m 33s\n",
            "1500:\ttest: 0.8321421\tbest: 0.8321421 (1500)\ttotal: 1m\tremaining: 4m 23s\n",
            "1750:\ttest: 0.8327723\tbest: 0.8327723 (1750)\ttotal: 1m 10s\tremaining: 4m 12s\n",
            "2000:\ttest: 0.8332600\tbest: 0.8332610 (1999)\ttotal: 1m 20s\tremaining: 4m 1s\n",
            "2250:\ttest: 0.8336743\tbest: 0.8336770 (2249)\ttotal: 1m 30s\tremaining: 3m 51s\n",
            "2500:\ttest: 0.8339170\tbest: 0.8339392 (2476)\ttotal: 1m 40s\tremaining: 3m 41s\n",
            "2750:\ttest: 0.8341680\tbest: 0.8341728 (2747)\ttotal: 1m 50s\tremaining: 3m 30s\n",
            "3000:\ttest: 0.8343995\tbest: 0.8344012 (2978)\ttotal: 2m\tremaining: 3m 20s\n",
            "3250:\ttest: 0.8346024\tbest: 0.8346267 (3243)\ttotal: 2m 10s\tremaining: 3m 10s\n",
            "3500:\ttest: 0.8347339\tbest: 0.8347339 (3500)\ttotal: 2m 20s\tremaining: 3m\n",
            "3750:\ttest: 0.8348105\tbest: 0.8348136 (3748)\ttotal: 2m 30s\tremaining: 2m 50s\n",
            "4000:\ttest: 0.8348917\tbest: 0.8349046 (3969)\ttotal: 2m 40s\tremaining: 2m 40s\n",
            "4250:\ttest: 0.8349301\tbest: 0.8349736 (4201)\ttotal: 2m 50s\tremaining: 2m 30s\n",
            "4500:\ttest: 0.8350060\tbest: 0.8350237 (4455)\ttotal: 3m\tremaining: 2m 20s\n",
            "4750:\ttest: 0.8350541\tbest: 0.8350672 (4709)\ttotal: 3m 10s\tremaining: 2m 10s\n",
            "Stopped by overfitting detector  (200 iterations wait)\n",
            "\n",
            "bestTest = 0.8350671699\n",
            "bestIteration = 4709\n",
            "\n",
            "Shrink model to first 4710 iterations.\n",
            "\n",
            "Testing scores 0.8350671698602404\n",
            "\n",
            "Training scores 0.8788352956265999\n",
            "========================Fold9==========================\n",
            "0:\ttest: 0.7942406\tbest: 0.7942406 (0)\ttotal: 44.6ms\tremaining: 5m 56s\n",
            "250:\ttest: 0.8312022\tbest: 0.8312022 (250)\ttotal: 10.5s\tremaining: 5m 23s\n",
            "500:\ttest: 0.8358012\tbest: 0.8358012 (500)\ttotal: 20.6s\tremaining: 5m 8s\n",
            "750:\ttest: 0.8377559\tbest: 0.8377559 (750)\ttotal: 30.7s\tremaining: 4m 56s\n",
            "1000:\ttest: 0.8391425\tbest: 0.8391425 (1000)\ttotal: 40.7s\tremaining: 4m 44s\n",
            "1250:\ttest: 0.8400247\tbest: 0.8400247 (1250)\ttotal: 50.7s\tremaining: 4m 33s\n",
            "1500:\ttest: 0.8405923\tbest: 0.8405923 (1500)\ttotal: 1m\tremaining: 4m 22s\n",
            "1750:\ttest: 0.8411113\tbest: 0.8411141 (1749)\ttotal: 1m 10s\tremaining: 4m 12s\n",
            "2000:\ttest: 0.8414211\tbest: 0.8414211 (2000)\ttotal: 1m 20s\tremaining: 4m 1s\n",
            "2250:\ttest: 0.8415888\tbest: 0.8416040 (2230)\ttotal: 1m 30s\tremaining: 3m 51s\n",
            "2500:\ttest: 0.8417624\tbest: 0.8417666 (2493)\ttotal: 1m 40s\tremaining: 3m 41s\n",
            "2750:\ttest: 0.8418991\tbest: 0.8419155 (2717)\ttotal: 1m 50s\tremaining: 3m 31s\n",
            "3000:\ttest: 0.8419886\tbest: 0.8420072 (2898)\ttotal: 2m\tremaining: 3m 21s\n",
            "3250:\ttest: 0.8421345\tbest: 0.8421357 (3249)\ttotal: 2m 10s\tremaining: 3m 10s\n",
            "3500:\ttest: 0.8422281\tbest: 0.8422434 (3489)\ttotal: 2m 20s\tremaining: 3m\n",
            "Stopped by overfitting detector  (200 iterations wait)\n",
            "\n",
            "bestTest = 0.8422434016\n",
            "bestIteration = 3489\n",
            "\n",
            "Shrink model to first 3490 iterations.\n",
            "\n",
            "Testing scores 0.8422434016179793\n",
            "\n",
            "Training scores 0.8694246800805585\n",
            "========================Fold10==========================\n",
            "0:\ttest: 0.7996771\tbest: 0.7996771 (0)\ttotal: 42.8ms\tremaining: 5m 42s\n",
            "250:\ttest: 0.8309522\tbest: 0.8309522 (250)\ttotal: 10.6s\tremaining: 5m 26s\n",
            "500:\ttest: 0.8356381\tbest: 0.8356381 (500)\ttotal: 20.9s\tremaining: 5m 12s\n",
            "750:\ttest: 0.8380226\tbest: 0.8380226 (750)\ttotal: 31s\tremaining: 4m 58s\n",
            "1000:\ttest: 0.8394900\tbest: 0.8394900 (1000)\ttotal: 41s\tremaining: 4m 46s\n",
            "1250:\ttest: 0.8406603\tbest: 0.8406603 (1250)\ttotal: 51s\tremaining: 4m 35s\n",
            "1500:\ttest: 0.8414190\tbest: 0.8414190 (1500)\ttotal: 1m\tremaining: 4m 23s\n",
            "1750:\ttest: 0.8422532\tbest: 0.8422532 (1750)\ttotal: 1m 10s\tremaining: 4m 12s\n",
            "2000:\ttest: 0.8427252\tbest: 0.8427313 (1995)\ttotal: 1m 20s\tremaining: 4m 2s\n",
            "2250:\ttest: 0.8431186\tbest: 0.8431195 (2246)\ttotal: 1m 30s\tremaining: 3m 51s\n",
            "2500:\ttest: 0.8433739\tbest: 0.8433739 (2500)\ttotal: 1m 40s\tremaining: 3m 41s\n",
            "2750:\ttest: 0.8435701\tbest: 0.8435701 (2750)\ttotal: 1m 50s\tremaining: 3m 31s\n",
            "3000:\ttest: 0.8438304\tbest: 0.8438446 (2995)\ttotal: 2m\tremaining: 3m 21s\n",
            "3250:\ttest: 0.8440916\tbest: 0.8440980 (3235)\ttotal: 2m 10s\tremaining: 3m 11s\n",
            "3500:\ttest: 0.8442779\tbest: 0.8442807 (3487)\ttotal: 2m 20s\tremaining: 3m 1s\n",
            "3750:\ttest: 0.8443948\tbest: 0.8444086 (3739)\ttotal: 2m 30s\tremaining: 2m 50s\n",
            "4000:\ttest: 0.8445412\tbest: 0.8445436 (3999)\ttotal: 2m 40s\tremaining: 2m 40s\n",
            "4250:\ttest: 0.8445439\tbest: 0.8445720 (4096)\ttotal: 2m 50s\tremaining: 2m 30s\n",
            "4500:\ttest: 0.8446370\tbest: 0.8446510 (4497)\ttotal: 3m\tremaining: 2m 20s\n",
            "4750:\ttest: 0.8447067\tbest: 0.8447110 (4559)\ttotal: 3m 11s\tremaining: 2m 10s\n",
            "Stopped by overfitting detector  (200 iterations wait)\n",
            "\n",
            "bestTest = 0.8447109855\n",
            "bestIteration = 4559\n",
            "\n",
            "Shrink model to first 4560 iterations.\n",
            "\n",
            "Testing scores 0.8447109854889381\n",
            "\n",
            "Training scores 0.8773289704488625\n",
            "Average Testing ROC score for 10 folds split: 0.8416405262294122\n",
            "Average Training ROC score for 10 folds split: 0.8763761446813237\n",
            "standard Deviation for 10 folds split: 0.004619057556658149\n"
          ],
          "name": "stdout"
        }
      ]
    },
    {
      "cell_type": "code",
      "metadata": {
        "id": "VKpEPdDBd6Wx",
        "outputId": "4995ae56-264c-4b41-c368-ae3194d41f9e",
        "colab": {
          "base_uri": "https://localhost:8080/",
          "height": 1000
        }
      },
      "source": [
        "lgb_model2 = lgbm.LGBMClassifier(random_state=34, n_estimators=5000,colsample_bytree=0.9,min_child_samples=10,\n",
        "    subsample=0.5,subsample_freq=2,num_leaves=120,reg_lambda=2,reg_alpha=5 ,metric='auc', learning_rate=0.008,\n",
        "    max_depth=5)\n",
        "LGBM2_train, LGBM2_test, LGBM2_name= lgb_predict(lgb_model2,train, target, test,  'lightgbm(2)')"
      ],
      "execution_count": 115,
      "outputs": [
        {
          "output_type": "stream",
          "text": [
            "========================Fold1==========================\n",
            "Training until validation scores don't improve for 200 rounds.\n",
            "[250]\tvalid_0's auc: 0.82715\n",
            "[500]\tvalid_0's auc: 0.830862\n",
            "[750]\tvalid_0's auc: 0.832696\n",
            "[1000]\tvalid_0's auc: 0.833995\n",
            "[1250]\tvalid_0's auc: 0.834481\n",
            "[1500]\tvalid_0's auc: 0.834828\n",
            "[1750]\tvalid_0's auc: 0.834679\n",
            "Early stopping, best iteration is:\n",
            "[1645]\tvalid_0's auc: 0.834995\n",
            "\n",
            "Validation scores 0.8349952112458885\n",
            "\n",
            "Training scores 0.8730757456589879\n",
            "========================Fold2==========================\n",
            "Training until validation scores don't improve for 200 rounds.\n",
            "[250]\tvalid_0's auc: 0.828919\n",
            "[500]\tvalid_0's auc: 0.833386\n",
            "[750]\tvalid_0's auc: 0.835457\n",
            "[1000]\tvalid_0's auc: 0.83677\n",
            "[1250]\tvalid_0's auc: 0.837293\n",
            "Early stopping, best iteration is:\n",
            "[1229]\tvalid_0's auc: 0.837365\n",
            "\n",
            "Validation scores 0.8373651831618677\n",
            "\n",
            "Training scores 0.8655728100952569\n",
            "========================Fold3==========================\n",
            "Training until validation scores don't improve for 200 rounds.\n",
            "[250]\tvalid_0's auc: 0.829604\n",
            "[500]\tvalid_0's auc: 0.835227\n",
            "[750]\tvalid_0's auc: 0.838524\n",
            "[1000]\tvalid_0's auc: 0.840489\n",
            "[1250]\tvalid_0's auc: 0.841611\n",
            "[1500]\tvalid_0's auc: 0.842309\n",
            "[1750]\tvalid_0's auc: 0.842573\n",
            "Early stopping, best iteration is:\n",
            "[1749]\tvalid_0's auc: 0.842575\n",
            "\n",
            "Validation scores 0.8425749474944546\n",
            "\n",
            "Training scores 0.8744448022653386\n",
            "========================Fold4==========================\n",
            "Training until validation scores don't improve for 200 rounds.\n",
            "[250]\tvalid_0's auc: 0.837755\n",
            "[500]\tvalid_0's auc: 0.842641\n",
            "[750]\tvalid_0's auc: 0.845311\n",
            "[1000]\tvalid_0's auc: 0.846654\n",
            "[1250]\tvalid_0's auc: 0.847319\n",
            "[1500]\tvalid_0's auc: 0.847565\n",
            "[1750]\tvalid_0's auc: 0.847784\n",
            "[2000]\tvalid_0's auc: 0.847959\n",
            "[2250]\tvalid_0's auc: 0.848093\n",
            "Early stopping, best iteration is:\n",
            "[2138]\tvalid_0's auc: 0.84821\n",
            "\n",
            "Validation scores 0.8482100339102088\n",
            "\n",
            "Training scores 0.8797723601903448\n",
            "========================Fold5==========================\n",
            "Training until validation scores don't improve for 200 rounds.\n",
            "[250]\tvalid_0's auc: 0.829024\n",
            "[500]\tvalid_0's auc: 0.834264\n",
            "[750]\tvalid_0's auc: 0.837798\n",
            "[1000]\tvalid_0's auc: 0.83958\n",
            "[1250]\tvalid_0's auc: 0.840485\n",
            "[1500]\tvalid_0's auc: 0.840913\n",
            "[1750]\tvalid_0's auc: 0.841314\n",
            "[2000]\tvalid_0's auc: 0.841506\n",
            "Early stopping, best iteration is:\n",
            "[2040]\tvalid_0's auc: 0.841524\n",
            "\n",
            "Validation scores 0.8415244053985204\n",
            "\n",
            "Training scores 0.8786963873786435\n",
            "========================Fold6==========================\n",
            "Training until validation scores don't improve for 200 rounds.\n",
            "[250]\tvalid_0's auc: 0.839145\n",
            "[500]\tvalid_0's auc: 0.842947\n",
            "[750]\tvalid_0's auc: 0.84511\n",
            "[1000]\tvalid_0's auc: 0.845915\n",
            "[1250]\tvalid_0's auc: 0.846338\n",
            "[1500]\tvalid_0's auc: 0.846872\n",
            "[1750]\tvalid_0's auc: 0.846876\n",
            "Early stopping, best iteration is:\n",
            "[1636]\tvalid_0's auc: 0.846994\n",
            "\n",
            "Validation scores 0.8469942849419806\n",
            "\n",
            "Training scores 0.8719772597017691\n",
            "========================Fold7==========================\n",
            "Training until validation scores don't improve for 200 rounds.\n",
            "[250]\tvalid_0's auc: 0.820941\n",
            "[500]\tvalid_0's auc: 0.827775\n",
            "[750]\tvalid_0's auc: 0.831778\n",
            "[1000]\tvalid_0's auc: 0.834157\n",
            "[1250]\tvalid_0's auc: 0.835684\n",
            "[1500]\tvalid_0's auc: 0.836878\n",
            "[1750]\tvalid_0's auc: 0.837468\n",
            "[2000]\tvalid_0's auc: 0.837816\n",
            "[2250]\tvalid_0's auc: 0.838204\n",
            "[2500]\tvalid_0's auc: 0.838429\n",
            "[2750]\tvalid_0's auc: 0.838628\n",
            "[3000]\tvalid_0's auc: 0.838982\n",
            "Early stopping, best iteration is:\n",
            "[2999]\tvalid_0's auc: 0.838996\n",
            "\n",
            "Validation scores 0.8389959274695147\n",
            "\n",
            "Training scores 0.8925912078082938\n",
            "========================Fold8==========================\n",
            "Training until validation scores don't improve for 200 rounds.\n",
            "[250]\tvalid_0's auc: 0.824238\n",
            "[500]\tvalid_0's auc: 0.828811\n",
            "[750]\tvalid_0's auc: 0.831775\n",
            "[1000]\tvalid_0's auc: 0.833493\n",
            "[1250]\tvalid_0's auc: 0.834333\n",
            "[1500]\tvalid_0's auc: 0.834909\n",
            "[1750]\tvalid_0's auc: 0.834847\n",
            "[2000]\tvalid_0's auc: 0.835239\n",
            "[2250]\tvalid_0's auc: 0.835167\n",
            "Early stopping, best iteration is:\n",
            "[2100]\tvalid_0's auc: 0.835334\n",
            "\n",
            "Validation scores 0.8353342012572025\n",
            "\n",
            "Training scores 0.8800339223891427\n",
            "========================Fold9==========================\n",
            "Training until validation scores don't improve for 200 rounds.\n",
            "[250]\tvalid_0's auc: 0.831928\n",
            "[500]\tvalid_0's auc: 0.837197\n",
            "[750]\tvalid_0's auc: 0.839482\n",
            "[1000]\tvalid_0's auc: 0.840779\n",
            "[1250]\tvalid_0's auc: 0.841511\n",
            "[1500]\tvalid_0's auc: 0.841879\n",
            "[1750]\tvalid_0's auc: 0.841889\n",
            "Early stopping, best iteration is:\n",
            "[1552]\tvalid_0's auc: 0.842015\n",
            "\n",
            "Validation scores 0.8420153302569846\n",
            "\n",
            "Training scores 0.8710107242416308\n",
            "========================Fold10==========================\n",
            "Training until validation scores don't improve for 200 rounds.\n",
            "[250]\tvalid_0's auc: 0.833809\n",
            "[500]\tvalid_0's auc: 0.838979\n",
            "[750]\tvalid_0's auc: 0.842065\n",
            "[1000]\tvalid_0's auc: 0.843542\n",
            "[1250]\tvalid_0's auc: 0.844284\n",
            "[1500]\tvalid_0's auc: 0.844919\n",
            "[1750]\tvalid_0's auc: 0.845135\n",
            "Early stopping, best iteration is:\n",
            "[1770]\tvalid_0's auc: 0.845178\n",
            "\n",
            "Validation scores 0.8451783335310066\n",
            "\n",
            "Training scores 0.8745498228222339\n",
            "Average Testing ROC score for 10 folds split: 0.8413187858667628\n",
            "Average Training ROC score for 10 folds split: 0.8761725042551642\n",
            "standard Deviation for 10 folds split: 0.004399222515996575\n"
          ],
          "name": "stdout"
        }
      ]
    },
    {
      "cell_type": "code",
      "metadata": {
        "id": "DkjyH80Qoi-Y",
        "outputId": "a1d0cfb8-1ec2-41b5-ef1d-aa9b07534faa",
        "colab": {
          "base_uri": "https://localhost:8080/",
          "height": 958
        }
      },
      "source": [
        "rf1_model = RandomForestClassifier(n_jobs=-1,criterion='entropy',min_samples_split=10,n_estimators=400,random_state=99)\n",
        "rf1_train, rf1_test, rf1_name = model_predict(rf1_model,train, target, test, 'RandomForest(1)')"
      ],
      "execution_count": 116,
      "outputs": [
        {
          "output_type": "stream",
          "text": [
            "========================Fold1==========================\n",
            "\n",
            "Validation scores 0.8326918144816133\n",
            "\n",
            "Training scores 0.999510979215267\n",
            "========================Fold2==========================\n",
            "\n",
            "Validation scores 0.831090820062715\n",
            "\n",
            "Training scores 0.9995283475380485\n",
            "========================Fold3==========================\n",
            "\n",
            "Validation scores 0.8359976329601503\n",
            "\n",
            "Training scores 0.9995166097108862\n",
            "========================Fold4==========================\n",
            "\n",
            "Validation scores 0.8439814769300715\n",
            "\n",
            "Training scores 0.9995070442545291\n",
            "========================Fold5==========================\n",
            "\n",
            "Validation scores 0.8358337821981839\n",
            "\n",
            "Training scores 0.9995220741654247\n",
            "========================Fold6==========================\n",
            "\n",
            "Validation scores 0.8438519684127197\n",
            "\n",
            "Training scores 0.9995042444456393\n",
            "========================Fold7==========================\n",
            "\n",
            "Validation scores 0.8312777029990263\n",
            "\n",
            "Training scores 0.9995034163236398\n",
            "========================Fold8==========================\n",
            "\n",
            "Validation scores 0.83157076521648\n",
            "\n",
            "Training scores 0.9995022699388153\n",
            "========================Fold9==========================\n",
            "\n",
            "Validation scores 0.839614633527421\n",
            "\n",
            "Training scores 0.9995312297270439\n",
            "========================Fold10==========================\n",
            "\n",
            "Validation scores 0.8414446346858787\n",
            "\n",
            "Training scores 0.9994936427809664\n",
            "Average Testing ROC score for 10 folds split: 0.836735523147426\n",
            "Average Training ROC score for 10 folds split: 0.999511985810026\n",
            "standard Deviation for 10 folds split: 0.004895375819178956\n"
          ],
          "name": "stdout"
        }
      ]
    },
    {
      "cell_type": "code",
      "metadata": {
        "id": "KmBHajaLojED",
        "outputId": "0ebb21b2-c84c-477b-98a3-4a6062dbb578",
        "colab": {
          "base_uri": "https://localhost:8080/",
          "height": 958
        }
      },
      "source": [
        "##1\n",
        "rf_model2 = RandomForestClassifier(max_depth=10,min_samples_split=10,min_samples_leaf=15,n_estimators=400,n_jobs=-1,random_state=34)\n",
        "rf2_train, rf2_test, rf2_name= model_predict( rf_model2,train, target, test, 'RandomForest(2)')"
      ],
      "execution_count": 117,
      "outputs": [
        {
          "output_type": "stream",
          "text": [
            "========================Fold1==========================\n",
            "\n",
            "Validation scores 0.8291415996560169\n",
            "\n",
            "Training scores 0.8792683116234479\n",
            "========================Fold2==========================\n",
            "\n",
            "Validation scores 0.8307283649297966\n",
            "\n",
            "Training scores 0.8793266378104867\n",
            "========================Fold3==========================\n",
            "\n",
            "Validation scores 0.8319137820740024\n",
            "\n",
            "Training scores 0.8789293036332445\n",
            "========================Fold4==========================\n",
            "\n",
            "Validation scores 0.8394986925571568\n",
            "\n",
            "Training scores 0.878407423744399\n",
            "========================Fold5==========================\n",
            "\n",
            "Validation scores 0.8309199840840544\n",
            "\n",
            "Training scores 0.8791310126796122\n",
            "========================Fold6==========================\n",
            "\n",
            "Validation scores 0.8405991501885252\n",
            "\n",
            "Training scores 0.8783770908278951\n",
            "========================Fold7==========================\n",
            "\n",
            "Validation scores 0.8242847213219657\n",
            "\n",
            "Training scores 0.8791454305087054\n",
            "========================Fold8==========================\n",
            "\n",
            "Validation scores 0.8267483402335121\n",
            "\n",
            "Training scores 0.8789094764110099\n",
            "========================Fold9==========================\n",
            "\n",
            "Validation scores 0.8355541703098323\n",
            "\n",
            "Training scores 0.8785346479570675\n",
            "========================Fold10==========================\n",
            "\n",
            "Validation scores 0.8365598908843169\n",
            "\n",
            "Training scores 0.8784751125847293\n",
            "Average Testing ROC score for 10 folds split: 0.832594869623918\n",
            "Average Training ROC score for 10 folds split: 0.8788504447780598\n",
            "standard Deviation for 10 folds split: 0.005080636164650347\n"
          ],
          "name": "stdout"
        }
      ]
    },
    {
      "cell_type": "code",
      "metadata": {
        "id": "vOWkVatvojL5",
        "outputId": "1ca9c9f3-adb7-46ae-f303-00dff30d2fb4",
        "colab": {
          "base_uri": "https://localhost:8080/",
          "height": 1000
        }
      },
      "source": [
        "##2\n",
        "from xgboost import XGBClassifier\n",
        "Xgboost = XGBClassifier(learning_rate=0.01,subsample=0.7,colsample_bytree=0.9,reg_alpha=10,\n",
        "               n_jobs=-1,n_estimators=5000,max_depth= 5,random_state=34)\n",
        "\n",
        "xgb_train, xgb_test, xgb_name= xgb_predict(Xgboost,train, target, test,'xgboost')"
      ],
      "execution_count": 118,
      "outputs": [
        {
          "output_type": "stream",
          "text": [
            "========================Fold1==========================\n",
            "[0]\tvalidation_0-auc:0.776544\n",
            "Will train until validation_0-auc hasn't improved in 200 rounds.\n",
            "[250]\tvalidation_0-auc:0.827898\n",
            "[500]\tvalidation_0-auc:0.831153\n",
            "[750]\tvalidation_0-auc:0.833171\n",
            "[1000]\tvalidation_0-auc:0.834187\n",
            "[1250]\tvalidation_0-auc:0.834618\n",
            "[1500]\tvalidation_0-auc:0.834762\n",
            "Stopping. Best iteration:\n",
            "[1542]\tvalidation_0-auc:0.834832\n",
            "\n",
            "\n",
            "Testing scores 0.8348315329584083\n",
            "\n",
            "Training scores 0.8739140136338971\n",
            "========================Fold2==========================\n",
            "[0]\tvalidation_0-auc:0.785944\n",
            "Will train until validation_0-auc hasn't improved in 200 rounds.\n",
            "[250]\tvalidation_0-auc:0.829721\n",
            "[500]\tvalidation_0-auc:0.834035\n",
            "[750]\tvalidation_0-auc:0.836192\n",
            "[1000]\tvalidation_0-auc:0.836979\n",
            "[1250]\tvalidation_0-auc:0.837319\n",
            "Stopping. Best iteration:\n",
            "[1207]\tvalidation_0-auc:0.83735\n",
            "\n",
            "\n",
            "Testing scores 0.8373496604581027\n",
            "\n",
            "Training scores 0.8673865949637134\n",
            "========================Fold3==========================\n",
            "[0]\tvalidation_0-auc:0.785561\n",
            "Will train until validation_0-auc hasn't improved in 200 rounds.\n",
            "[250]\tvalidation_0-auc:0.830783\n",
            "[500]\tvalidation_0-auc:0.836285\n",
            "[750]\tvalidation_0-auc:0.839441\n",
            "[1000]\tvalidation_0-auc:0.841123\n",
            "[1250]\tvalidation_0-auc:0.842106\n",
            "[1500]\tvalidation_0-auc:0.842558\n",
            "[1750]\tvalidation_0-auc:0.842562\n",
            "Stopping. Best iteration:\n",
            "[1645]\tvalidation_0-auc:0.842734\n",
            "\n",
            "\n",
            "Testing scores 0.8427337964963186\n",
            "\n",
            "Training scores 0.875291294595569\n",
            "========================Fold4==========================\n",
            "[0]\tvalidation_0-auc:0.793607\n",
            "Will train until validation_0-auc hasn't improved in 200 rounds.\n",
            "[250]\tvalidation_0-auc:0.837796\n",
            "[500]\tvalidation_0-auc:0.842769\n",
            "[750]\tvalidation_0-auc:0.845385\n",
            "[1000]\tvalidation_0-auc:0.846513\n",
            "[1250]\tvalidation_0-auc:0.84714\n",
            "[1500]\tvalidation_0-auc:0.847262\n",
            "[1750]\tvalidation_0-auc:0.847355\n",
            "[2000]\tvalidation_0-auc:0.84734\n",
            "[2250]\tvalidation_0-auc:0.847225\n",
            "Stopping. Best iteration:\n",
            "[2078]\tvalidation_0-auc:0.847445\n",
            "\n",
            "\n",
            "Testing scores 0.8474453682752845\n",
            "\n",
            "Training scores 0.8817959230630686\n",
            "========================Fold5==========================\n",
            "[0]\tvalidation_0-auc:0.790465\n",
            "Will train until validation_0-auc hasn't improved in 200 rounds.\n",
            "[250]\tvalidation_0-auc:0.830426\n",
            "[500]\tvalidation_0-auc:0.835366\n",
            "[750]\tvalidation_0-auc:0.838661\n",
            "[1000]\tvalidation_0-auc:0.840419\n",
            "[1250]\tvalidation_0-auc:0.840997\n",
            "[1500]\tvalidation_0-auc:0.841345\n",
            "[1750]\tvalidation_0-auc:0.841374\n",
            "[2000]\tvalidation_0-auc:0.841327\n",
            "Stopping. Best iteration:\n",
            "[1899]\tvalidation_0-auc:0.841521\n",
            "\n",
            "\n",
            "Testing scores 0.8415206109598223\n",
            "\n",
            "Training scores 0.8795106837047182\n",
            "========================Fold6==========================\n",
            "[0]\tvalidation_0-auc:0.789281\n",
            "Will train until validation_0-auc hasn't improved in 200 rounds.\n",
            "[250]\tvalidation_0-auc:0.839209\n",
            "[500]\tvalidation_0-auc:0.843442\n",
            "[750]\tvalidation_0-auc:0.845427\n",
            "[1000]\tvalidation_0-auc:0.84642\n",
            "[1250]\tvalidation_0-auc:0.846676\n",
            "[1500]\tvalidation_0-auc:0.846768\n",
            "Stopping. Best iteration:\n",
            "[1406]\tvalidation_0-auc:0.846841\n",
            "\n",
            "\n",
            "Testing scores 0.8468413754202856\n",
            "\n",
            "Training scores 0.8705709339809624\n",
            "========================Fold7==========================\n",
            "[0]\tvalidation_0-auc:0.776845\n",
            "Will train until validation_0-auc hasn't improved in 200 rounds.\n",
            "[250]\tvalidation_0-auc:0.821746\n",
            "[500]\tvalidation_0-auc:0.828522\n",
            "[750]\tvalidation_0-auc:0.832618\n",
            "[1000]\tvalidation_0-auc:0.83471\n",
            "[1250]\tvalidation_0-auc:0.835992\n",
            "[1500]\tvalidation_0-auc:0.836696\n",
            "[1750]\tvalidation_0-auc:0.837296\n",
            "[2000]\tvalidation_0-auc:0.837551\n",
            "[2250]\tvalidation_0-auc:0.83776\n",
            "[2500]\tvalidation_0-auc:0.837904\n",
            "[2750]\tvalidation_0-auc:0.83803\n",
            "[3000]\tvalidation_0-auc:0.838192\n",
            "[3250]\tvalidation_0-auc:0.838307\n",
            "Stopping. Best iteration:\n",
            "[3241]\tvalidation_0-auc:0.83834\n",
            "\n",
            "\n",
            "Testing scores 0.8383403300501171\n",
            "\n",
            "Training scores 0.8992156633013144\n",
            "========================Fold8==========================\n",
            "[0]\tvalidation_0-auc:0.786372\n",
            "Will train until validation_0-auc hasn't improved in 200 rounds.\n",
            "[250]\tvalidation_0-auc:0.824165\n",
            "[500]\tvalidation_0-auc:0.828793\n",
            "[750]\tvalidation_0-auc:0.83183\n",
            "[1000]\tvalidation_0-auc:0.833398\n",
            "[1250]\tvalidation_0-auc:0.833999\n",
            "[1500]\tvalidation_0-auc:0.834384\n",
            "[1750]\tvalidation_0-auc:0.834674\n",
            "Stopping. Best iteration:\n",
            "[1782]\tvalidation_0-auc:0.834708\n",
            "\n",
            "\n",
            "Testing scores 0.8347075652804709\n",
            "\n",
            "Training scores 0.877786116145524\n",
            "========================Fold9==========================\n",
            "[0]\tvalidation_0-auc:0.793244\n",
            "Will train until validation_0-auc hasn't improved in 200 rounds.\n",
            "[250]\tvalidation_0-auc:0.831185\n",
            "[500]\tvalidation_0-auc:0.836504\n",
            "[750]\tvalidation_0-auc:0.839239\n",
            "[1000]\tvalidation_0-auc:0.840396\n",
            "[1250]\tvalidation_0-auc:0.841063\n",
            "[1500]\tvalidation_0-auc:0.841418\n",
            "[1750]\tvalidation_0-auc:0.841338\n",
            "Stopping. Best iteration:\n",
            "[1574]\tvalidation_0-auc:0.841518\n",
            "\n",
            "\n",
            "Testing scores 0.8415176416559325\n",
            "\n",
            "Training scores 0.8738125930664633\n",
            "========================Fold10==========================\n",
            "[0]\tvalidation_0-auc:0.798338\n",
            "Will train until validation_0-auc hasn't improved in 200 rounds.\n",
            "[250]\tvalidation_0-auc:0.833474\n",
            "[500]\tvalidation_0-auc:0.839101\n",
            "[750]\tvalidation_0-auc:0.842266\n",
            "[1000]\tvalidation_0-auc:0.843563\n",
            "[1250]\tvalidation_0-auc:0.844218\n",
            "[1500]\tvalidation_0-auc:0.844671\n",
            "[1750]\tvalidation_0-auc:0.844734\n",
            "[2000]\tvalidation_0-auc:0.844733\n",
            "Stopping. Best iteration:\n",
            "[2049]\tvalidation_0-auc:0.844847\n",
            "\n",
            "\n",
            "Testing scores 0.8448466560566651\n",
            "\n",
            "Training scores 0.8818110051414647\n",
            "Average Testing ROC score for 10 folds split: 0.8410134537611407\n",
            "Average Training ROC score for 10 folds split: 0.8781094821596694\n",
            "standard Deviation for 10 folds split: 0.004382327852733399\n"
          ],
          "name": "stdout"
        }
      ]
    },
    {
      "cell_type": "code",
      "metadata": {
        "id": "p6F8QLkyojb_",
        "outputId": "1bca2ef7-ce1a-46d4-ee13-59dbae11ac90",
        "colab": {
          "base_uri": "https://localhost:8080/",
          "height": 958
        }
      },
      "source": [
        "##3\n",
        "from sklearn.ensemble import  GradientBoostingClassifier\n",
        "gbm_model = GradientBoostingClassifier(max_depth=4,min_samples_leaf=10,n_estimators=200,learning_rate=0.1,min_samples_split=10,random_state=10)\n",
        "gbm_train, gbm_test, gbm_name= model_predict(gbm_model,train, target, test, 'Gbm')"
      ],
      "execution_count": 125,
      "outputs": [
        {
          "output_type": "stream",
          "text": [
            "========================Fold1==========================\n",
            "\n",
            "Validation scores 0.8330386606735234\n",
            "\n",
            "Training scores 0.8707550341782366\n",
            "========================Fold2==========================\n",
            "\n",
            "Validation scores 0.8353132541985895\n",
            "\n",
            "Training scores 0.8712694390253557\n",
            "========================Fold3==========================\n",
            "\n",
            "Validation scores 0.8405669132879346\n",
            "\n",
            "Training scores 0.8695435069184125\n",
            "========================Fold4==========================\n",
            "\n",
            "Validation scores 0.8462846149826173\n",
            "\n",
            "Training scores 0.8696511409202062\n",
            "========================Fold5==========================\n",
            "\n",
            "Validation scores 0.8387373039374717\n",
            "\n",
            "Training scores 0.8703997754494486\n",
            "========================Fold6==========================\n",
            "\n",
            "Validation scores 0.8454609661813096\n",
            "\n",
            "Training scores 0.8704792295815413\n",
            "========================Fold7==========================\n",
            "\n",
            "Validation scores 0.8329771190811774\n",
            "\n",
            "Training scores 0.8706396925886813\n",
            "========================Fold8==========================\n",
            "\n",
            "Validation scores 0.8313357120791283\n",
            "\n",
            "Training scores 0.87116135303392\n",
            "========================Fold9==========================\n",
            "\n",
            "Validation scores 0.8397406502809258\n",
            "\n",
            "Training scores 0.8700812169048839\n",
            "========================Fold10==========================\n",
            "\n",
            "Validation scores 0.8421521213567195\n",
            "\n",
            "Training scores 0.8693762530387953\n",
            "Average Testing ROC score for 10 folds split: 0.8385607316059398\n",
            "Average Training ROC score for 10 folds split: 0.8703356641639483\n",
            "standard Deviation for 10 folds split: 0.005000348544312132\n"
          ],
          "name": "stdout"
        }
      ]
    },
    {
      "cell_type": "code",
      "metadata": {
        "id": "uIKVR6PmojZc"
      },
      "source": [
        "##STACKING"
      ],
      "execution_count": 124,
      "outputs": []
    },
    {
      "cell_type": "code",
      "metadata": {
        "id": "PsVVIA_tojWj",
        "outputId": "9ba741d0-3b6a-4007-82c7-2be9d8b5db8f",
        "colab": {
          "base_uri": "https://localhost:8080/",
          "height": 197
        }
      },
      "source": [
        "Train_stack3 = pd.DataFrame(xgb_train)\n",
        "Train_stack3 = pd.concat([Train_stack3,pd.DataFrame(rf1_train),pd.DataFrame(rf2_train),\n",
        "                        pd.DataFrame(LGB1__train),pd.DataFrame(LGBM2_train),pd.DataFrame(cat1_train),pd.DataFrame(cat2_train),\n",
        "                         pd.DataFrame(gbm_train)],1)\n",
        "Test_stack3 = pd.DataFrame(xgb_test)\n",
        "Test_stack3 = pd.concat([Test_stack3,pd.DataFrame(rf1_test),pd.DataFrame(rf2_test),\n",
        "                        pd.DataFrame(LGB1_test),pd.DataFrame(LGBM2_test),pd.DataFrame(cat1_test),pd.DataFrame(cat2_test),\n",
        "                        pd.DataFrame(gbm_test)],1)\n",
        "Test_stack3.columns=[xgb_name,rf1_name,rf2_name,LGB1_name,LGBM2_name,cat1_name,cat2_name,gbm_name]\n",
        "Train_stack3.columns=[xgb_name,rf1_name,rf2_name,LGB1_name,LGBM2_name,cat1_name,cat2_name,gbm_name]\n",
        "Test_stack3 = Test_stack3/10 #average predictions for 1o folds on the Test set..\n",
        "Test_stack3.head()"
      ],
      "execution_count": 126,
      "outputs": [
        {
          "output_type": "execute_result",
          "data": {
            "text/html": [
              "<div>\n",
              "<style scoped>\n",
              "    .dataframe tbody tr th:only-of-type {\n",
              "        vertical-align: middle;\n",
              "    }\n",
              "\n",
              "    .dataframe tbody tr th {\n",
              "        vertical-align: top;\n",
              "    }\n",
              "\n",
              "    .dataframe thead th {\n",
              "        text-align: right;\n",
              "    }\n",
              "</style>\n",
              "<table border=\"1\" class=\"dataframe\">\n",
              "  <thead>\n",
              "    <tr style=\"text-align: right;\">\n",
              "      <th></th>\n",
              "      <th>xgboost</th>\n",
              "      <th>RandomForest(1)</th>\n",
              "      <th>RandomForest(2)</th>\n",
              "      <th>lightgbm(1)</th>\n",
              "      <th>lightgbm(2)</th>\n",
              "      <th>catboost(1)</th>\n",
              "      <th>catboost(2)</th>\n",
              "      <th>Gbm</th>\n",
              "    </tr>\n",
              "  </thead>\n",
              "  <tbody>\n",
              "    <tr>\n",
              "      <th>0</th>\n",
              "      <td>0.298412</td>\n",
              "      <td>0.348726</td>\n",
              "      <td>0.369491</td>\n",
              "      <td>0.303370</td>\n",
              "      <td>0.302246</td>\n",
              "      <td>0.305407</td>\n",
              "      <td>0.312501</td>\n",
              "      <td>0.353062</td>\n",
              "    </tr>\n",
              "    <tr>\n",
              "      <th>1</th>\n",
              "      <td>0.344080</td>\n",
              "      <td>0.373134</td>\n",
              "      <td>0.381312</td>\n",
              "      <td>0.359435</td>\n",
              "      <td>0.372995</td>\n",
              "      <td>0.363210</td>\n",
              "      <td>0.362095</td>\n",
              "      <td>0.338744</td>\n",
              "    </tr>\n",
              "    <tr>\n",
              "      <th>2</th>\n",
              "      <td>0.405299</td>\n",
              "      <td>0.392137</td>\n",
              "      <td>0.374125</td>\n",
              "      <td>0.406959</td>\n",
              "      <td>0.405959</td>\n",
              "      <td>0.390146</td>\n",
              "      <td>0.384402</td>\n",
              "      <td>0.414784</td>\n",
              "    </tr>\n",
              "    <tr>\n",
              "      <th>3</th>\n",
              "      <td>0.764874</td>\n",
              "      <td>0.664389</td>\n",
              "      <td>0.637773</td>\n",
              "      <td>0.753831</td>\n",
              "      <td>0.761280</td>\n",
              "      <td>0.734621</td>\n",
              "      <td>0.740145</td>\n",
              "      <td>0.738248</td>\n",
              "    </tr>\n",
              "    <tr>\n",
              "      <th>4</th>\n",
              "      <td>0.120587</td>\n",
              "      <td>0.201943</td>\n",
              "      <td>0.221903</td>\n",
              "      <td>0.123735</td>\n",
              "      <td>0.132495</td>\n",
              "      <td>0.182021</td>\n",
              "      <td>0.183500</td>\n",
              "      <td>0.190475</td>\n",
              "    </tr>\n",
              "  </tbody>\n",
              "</table>\n",
              "</div>"
            ],
            "text/plain": [
              "    xgboost  RandomForest(1)  ...  catboost(2)       Gbm\n",
              "0  0.298412         0.348726  ...     0.312501  0.353062\n",
              "1  0.344080         0.373134  ...     0.362095  0.338744\n",
              "2  0.405299         0.392137  ...     0.384402  0.414784\n",
              "3  0.764874         0.664389  ...     0.740145  0.738248\n",
              "4  0.120587         0.201943  ...     0.183500  0.190475\n",
              "\n",
              "[5 rows x 8 columns]"
            ]
          },
          "metadata": {
            "tags": []
          },
          "execution_count": 126
        }
      ]
    },
    {
      "cell_type": "code",
      "metadata": {
        "id": "ag_JjQpIojUD"
      },
      "source": [
        "from sklearn.linear_model import  LinearRegression, Ridge\n",
        "meta_estimator = LinearRegression()\n",
        "Stack(meta_estimator,Train_stack3,Test_stack3,target,'lova_stack.csv')"
      ],
      "execution_count": 132,
      "outputs": []
    },
    {
      "cell_type": "code",
      "metadata": {
        "id": "6dyoZ1hhRubC",
        "outputId": "7f7cc29e-4253-4874-a7eb-3e8384c381eb",
        "colab": {
          "base_uri": "https://localhost:8080/",
          "height": 16
        }
      },
      "source": [
        "files.download('lova_stack.csv')"
      ],
      "execution_count": 133,
      "outputs": [
        {
          "output_type": "display_data",
          "data": {
            "application/javascript": [
              "\n",
              "    async function download(id, filename, size) {\n",
              "      if (!google.colab.kernel.accessAllowed) {\n",
              "        return;\n",
              "      }\n",
              "      const div = document.createElement('div');\n",
              "      const label = document.createElement('label');\n",
              "      label.textContent = `Downloading \"${filename}\": `;\n",
              "      div.appendChild(label);\n",
              "      const progress = document.createElement('progress');\n",
              "      progress.max = size;\n",
              "      div.appendChild(progress);\n",
              "      document.body.appendChild(div);\n",
              "\n",
              "      const buffers = [];\n",
              "      let downloaded = 0;\n",
              "\n",
              "      const channel = await google.colab.kernel.comms.open(id);\n",
              "      // Send a message to notify the kernel that we're ready.\n",
              "      channel.send({})\n",
              "\n",
              "      for await (const message of channel.messages) {\n",
              "        // Send a message to notify the kernel that we're ready.\n",
              "        channel.send({})\n",
              "        if (message.buffers) {\n",
              "          for (const buffer of message.buffers) {\n",
              "            buffers.push(buffer);\n",
              "            downloaded += buffer.byteLength;\n",
              "            progress.value = downloaded;\n",
              "          }\n",
              "        }\n",
              "      }\n",
              "      const blob = new Blob(buffers, {type: 'application/binary'});\n",
              "      const a = document.createElement('a');\n",
              "      a.href = window.URL.createObjectURL(blob);\n",
              "      a.download = filename;\n",
              "      div.appendChild(a);\n",
              "      a.click();\n",
              "      div.remove();\n",
              "    }\n",
              "  "
            ],
            "text/plain": [
              "<IPython.core.display.Javascript object>"
            ]
          },
          "metadata": {
            "tags": []
          }
        },
        {
          "output_type": "display_data",
          "data": {
            "application/javascript": [
              "download(\"download_8cab6f76-caea-46cb-bf50-098775c7a47e\", \"lova_stack.csv\", 805192)"
            ],
            "text/plain": [
              "<IPython.core.display.Javascript object>"
            ]
          },
          "metadata": {
            "tags": []
          }
        }
      ]
    },
    {
      "cell_type": "code",
      "metadata": {
        "id": "nF1We0qEojR2",
        "outputId": "034ce8fa-5bf1-4ced-f1d8-67fbbaf53921",
        "colab": {
          "base_uri": "https://localhost:8080/",
          "height": 287
        }
      },
      "source": [
        "#CORRELATION BETWEEN PREDICTIONS..\n",
        "Train_stack3.corr()"
      ],
      "execution_count": 129,
      "outputs": [
        {
          "output_type": "execute_result",
          "data": {
            "text/html": [
              "<div>\n",
              "<style scoped>\n",
              "    .dataframe tbody tr th:only-of-type {\n",
              "        vertical-align: middle;\n",
              "    }\n",
              "\n",
              "    .dataframe tbody tr th {\n",
              "        vertical-align: top;\n",
              "    }\n",
              "\n",
              "    .dataframe thead th {\n",
              "        text-align: right;\n",
              "    }\n",
              "</style>\n",
              "<table border=\"1\" class=\"dataframe\">\n",
              "  <thead>\n",
              "    <tr style=\"text-align: right;\">\n",
              "      <th></th>\n",
              "      <th>xgboost</th>\n",
              "      <th>RandomForest(1)</th>\n",
              "      <th>RandomForest(2)</th>\n",
              "      <th>lightgbm(1)</th>\n",
              "      <th>lightgbm(2)</th>\n",
              "      <th>catboost(1)</th>\n",
              "      <th>catboost(2)</th>\n",
              "      <th>Gbm</th>\n",
              "    </tr>\n",
              "  </thead>\n",
              "  <tbody>\n",
              "    <tr>\n",
              "      <th>xgboost</th>\n",
              "      <td>1.000000</td>\n",
              "      <td>0.969205</td>\n",
              "      <td>0.963207</td>\n",
              "      <td>0.997666</td>\n",
              "      <td>0.997642</td>\n",
              "      <td>0.988064</td>\n",
              "      <td>0.992101</td>\n",
              "      <td>0.986445</td>\n",
              "    </tr>\n",
              "    <tr>\n",
              "      <th>RandomForest(1)</th>\n",
              "      <td>0.969205</td>\n",
              "      <td>1.000000</td>\n",
              "      <td>0.984577</td>\n",
              "      <td>0.969879</td>\n",
              "      <td>0.970833</td>\n",
              "      <td>0.966624</td>\n",
              "      <td>0.971243</td>\n",
              "      <td>0.961314</td>\n",
              "    </tr>\n",
              "    <tr>\n",
              "      <th>RandomForest(2)</th>\n",
              "      <td>0.963207</td>\n",
              "      <td>0.984577</td>\n",
              "      <td>1.000000</td>\n",
              "      <td>0.964049</td>\n",
              "      <td>0.965693</td>\n",
              "      <td>0.962241</td>\n",
              "      <td>0.967150</td>\n",
              "      <td>0.958166</td>\n",
              "    </tr>\n",
              "    <tr>\n",
              "      <th>lightgbm(1)</th>\n",
              "      <td>0.997666</td>\n",
              "      <td>0.969879</td>\n",
              "      <td>0.964049</td>\n",
              "      <td>1.000000</td>\n",
              "      <td>0.997729</td>\n",
              "      <td>0.988674</td>\n",
              "      <td>0.992826</td>\n",
              "      <td>0.987508</td>\n",
              "    </tr>\n",
              "    <tr>\n",
              "      <th>lightgbm(2)</th>\n",
              "      <td>0.997642</td>\n",
              "      <td>0.970833</td>\n",
              "      <td>0.965693</td>\n",
              "      <td>0.997729</td>\n",
              "      <td>1.000000</td>\n",
              "      <td>0.988958</td>\n",
              "      <td>0.993223</td>\n",
              "      <td>0.986381</td>\n",
              "    </tr>\n",
              "    <tr>\n",
              "      <th>catboost(1)</th>\n",
              "      <td>0.988064</td>\n",
              "      <td>0.966624</td>\n",
              "      <td>0.962241</td>\n",
              "      <td>0.988674</td>\n",
              "      <td>0.988958</td>\n",
              "      <td>1.000000</td>\n",
              "      <td>0.994312</td>\n",
              "      <td>0.983809</td>\n",
              "    </tr>\n",
              "    <tr>\n",
              "      <th>catboost(2)</th>\n",
              "      <td>0.992101</td>\n",
              "      <td>0.971243</td>\n",
              "      <td>0.967150</td>\n",
              "      <td>0.992826</td>\n",
              "      <td>0.993223</td>\n",
              "      <td>0.994312</td>\n",
              "      <td>1.000000</td>\n",
              "      <td>0.986838</td>\n",
              "    </tr>\n",
              "    <tr>\n",
              "      <th>Gbm</th>\n",
              "      <td>0.986445</td>\n",
              "      <td>0.961314</td>\n",
              "      <td>0.958166</td>\n",
              "      <td>0.987508</td>\n",
              "      <td>0.986381</td>\n",
              "      <td>0.983809</td>\n",
              "      <td>0.986838</td>\n",
              "      <td>1.000000</td>\n",
              "    </tr>\n",
              "  </tbody>\n",
              "</table>\n",
              "</div>"
            ],
            "text/plain": [
              "                  xgboost  RandomForest(1)  ...  catboost(2)       Gbm\n",
              "xgboost          1.000000         0.969205  ...     0.992101  0.986445\n",
              "RandomForest(1)  0.969205         1.000000  ...     0.971243  0.961314\n",
              "RandomForest(2)  0.963207         0.984577  ...     0.967150  0.958166\n",
              "lightgbm(1)      0.997666         0.969879  ...     0.992826  0.987508\n",
              "lightgbm(2)      0.997642         0.970833  ...     0.993223  0.986381\n",
              "catboost(1)      0.988064         0.966624  ...     0.994312  0.983809\n",
              "catboost(2)      0.992101         0.971243  ...     1.000000  0.986838\n",
              "Gbm              0.986445         0.961314  ...     0.986838  1.000000\n",
              "\n",
              "[8 rows x 8 columns]"
            ]
          },
          "metadata": {
            "tags": []
          },
          "execution_count": 129
        }
      ]
    },
    {
      "cell_type": "code",
      "metadata": {
        "id": "N-AKGhJy29Ct"
      },
      "source": [
        ""
      ],
      "execution_count": null,
      "outputs": []
    },
    {
      "cell_type": "code",
      "metadata": {
        "id": "XNdXGxbGojQI"
      },
      "source": [
        ""
      ],
      "execution_count": null,
      "outputs": []
    },
    {
      "cell_type": "code",
      "metadata": {
        "id": "_5vxko58ojJd"
      },
      "source": [
        ""
      ],
      "execution_count": null,
      "outputs": []
    },
    {
      "cell_type": "code",
      "metadata": {
        "id": "NPchGPKVojH0"
      },
      "source": [
        ""
      ],
      "execution_count": null,
      "outputs": []
    },
    {
      "cell_type": "code",
      "metadata": {
        "id": "6BBwrMKcoi8X"
      },
      "source": [
        ""
      ],
      "execution_count": null,
      "outputs": []
    },
    {
      "cell_type": "code",
      "metadata": {
        "id": "IL-9y6Sboi5z"
      },
      "source": [
        ""
      ],
      "execution_count": null,
      "outputs": []
    },
    {
      "cell_type": "code",
      "metadata": {
        "id": "HBb_Lhidfhct",
        "outputId": "a75360b9-6ace-4d5a-9282-c98a378b95a4",
        "colab": {
          "base_uri": "https://localhost:8080/",
          "height": 34
        }
      },
      "source": [
        "ad.score(xtst,ytst)"
      ],
      "execution_count": null,
      "outputs": [
        {
          "output_type": "execute_result",
          "data": {
            "text/plain": [
              "0.7424107142857143"
            ]
          },
          "metadata": {
            "tags": []
          },
          "execution_count": 301
        }
      ]
    },
    {
      "cell_type": "code",
      "metadata": {
        "id": "L0f6lJ_rfha6",
        "outputId": "6af0e45a-6b7f-4b72-a319-a675cb3394a9",
        "colab": {
          "base_uri": "https://localhost:8080/",
          "height": 34
        }
      },
      "source": [
        "ad.score(xtr,ytr)"
      ],
      "execution_count": null,
      "outputs": [
        {
          "output_type": "execute_result",
          "data": {
            "text/plain": [
              "0.9999627976190476"
            ]
          },
          "metadata": {
            "tags": []
          },
          "execution_count": 302
        }
      ]
    },
    {
      "cell_type": "code",
      "metadata": {
        "id": "R-rMjQvMfhY9"
      },
      "source": [
        "# Voting Classifier - Multiple model ensemble\n",
        "from sklearn.svm import SVC\n",
        "lr = LogisticRegression()\n",
        "tree = DecisionTreeClassifier()\n",
        "svm = SVC(kernel='poly',degree=2)"
      ],
      "execution_count": null,
      "outputs": []
    },
    {
      "cell_type": "code",
      "metadata": {
        "id": "c-mdi5TrfhVt"
      },
      "source": [
        "evc = VotingClassifier( estimators= [('lr',lr),('tree',tree),('svm',svm)], voting = 'hard')"
      ],
      "execution_count": null,
      "outputs": []
    },
    {
      "cell_type": "code",
      "metadata": {
        "id": "lLe7kpsLfhSI",
        "outputId": "c588a930-45e2-4d8e-98e6-c1e6504c5224",
        "colab": {
          "base_uri": "https://localhost:8080/",
          "height": 621
        }
      },
      "source": [
        "evc.fit(xtr.iloc[1:4000],ytr.iloc[1:4000])"
      ],
      "execution_count": null,
      "outputs": [
        {
          "output_type": "stream",
          "text": [
            "/usr/local/lib/python3.6/dist-packages/sklearn/linear_model/_logistic.py:940: ConvergenceWarning: lbfgs failed to converge (status=1):\n",
            "STOP: TOTAL NO. of ITERATIONS REACHED LIMIT.\n",
            "\n",
            "Increase the number of iterations (max_iter) or scale the data as shown in:\n",
            "    https://scikit-learn.org/stable/modules/preprocessing.html\n",
            "Please also refer to the documentation for alternative solver options:\n",
            "    https://scikit-learn.org/stable/modules/linear_model.html#logistic-regression\n",
            "  extra_warning_msg=_LOGISTIC_SOLVER_CONVERGENCE_MSG)\n"
          ],
          "name": "stderr"
        },
        {
          "output_type": "execute_result",
          "data": {
            "text/plain": [
              "VotingClassifier(estimators=[('lr',\n",
              "                              LogisticRegression(C=1.0, class_weight=None,\n",
              "                                                 dual=False, fit_intercept=True,\n",
              "                                                 intercept_scaling=1,\n",
              "                                                 l1_ratio=None, max_iter=100,\n",
              "                                                 multi_class='auto',\n",
              "                                                 n_jobs=None, penalty='l2',\n",
              "                                                 random_state=None,\n",
              "                                                 solver='lbfgs', tol=0.0001,\n",
              "                                                 verbose=0, warm_start=False)),\n",
              "                             ('tree',\n",
              "                              DecisionTreeClassifier(ccp_alpha=0.0,\n",
              "                                                     class_weight=None,\n",
              "                                                     criterion='gini...\n",
              "                                                     presort='deprecated',\n",
              "                                                     random_state=None,\n",
              "                                                     splitter='best')),\n",
              "                             ('svm',\n",
              "                              SVC(C=1.0, break_ties=False, cache_size=200,\n",
              "                                  class_weight=None, coef0=0.0,\n",
              "                                  decision_function_shape='ovr', degree=2,\n",
              "                                  gamma='scale', kernel='poly', max_iter=-1,\n",
              "                                  probability=False, random_state=None,\n",
              "                                  shrinking=True, tol=0.001, verbose=False))],\n",
              "                 flatten_transform=True, n_jobs=None, voting='hard',\n",
              "                 weights=None)"
            ]
          },
          "metadata": {
            "tags": []
          },
          "execution_count": 305
        }
      ]
    },
    {
      "cell_type": "code",
      "metadata": {
        "id": "ohwsgu2JfhOG",
        "outputId": "e10edb20-4bde-4ee0-de74-6cb7d69ffee1",
        "colab": {
          "base_uri": "https://localhost:8080/",
          "height": 34
        }
      },
      "source": [
        "evc.score(xtst,ytst)"
      ],
      "execution_count": null,
      "outputs": [
        {
          "output_type": "execute_result",
          "data": {
            "text/plain": [
              "0.7790178571428571"
            ]
          },
          "metadata": {
            "tags": []
          },
          "execution_count": 306
        }
      ]
    },
    {
      "cell_type": "code",
      "metadata": {
        "id": "L5Kaw_59fhGT"
      },
      "source": [
        "%%capture\n",
        "#In the real sense we want to see how the model's doing but I did this to avoid long training lines on github\n",
        "#!pip install catboost\n",
        "from catboost import CatBoostClassifier\n",
        "from sklearn.metrics import log_loss\n",
        "errcb1=[]\n",
        "y_pred_totcb1=[]\n",
        "fold=KFold(n_splits=25)#25\n",
        "i=1\n",
        "for train_index, test_index in fold.split(train,y):\n",
        "    print(str(i) + ' iter')\n",
        "    \n",
        "    m1  = CatBoostClassifier(n_estimators=1000,eval_metric='Logloss',random_seed= 10, use_best_model=True)\n",
        "    m1.fit(xtr,ytr,eval_set=[(xtr,ytr),(xtst, ytst)], early_stopping_rounds=100,verbose=100)\n",
        "    preds=m1.predict_proba(xtst)[:,1]\n",
        "    print(\"err: \",log_loss(ytst,preds))\n",
        "    errcb1.append((log_loss(ytst,preds)))\n",
        "    p1 = m1.predict_proba(test)[:,1]\n",
        "    y_pred_totcb1.append(p1)\n",
        "    i+=1\n",
        "np.mean(errcb1)"
      ],
      "execution_count": null,
      "outputs": []
    },
    {
      "cell_type": "code",
      "metadata": {
        "id": "FvqzHt5DfhEI",
        "outputId": "880de91e-85b3-47cc-eaaa-ad6b5609974c",
        "colab": {
          "base_uri": "https://localhost:8080/",
          "height": 34
        }
      },
      "source": [
        "m3.score(xtr,ytr)"
      ],
      "execution_count": null,
      "outputs": [
        {
          "output_type": "execute_result",
          "data": {
            "text/plain": [
              "0.8224516369047619"
            ]
          },
          "metadata": {
            "tags": []
          },
          "execution_count": 323
        }
      ]
    },
    {
      "cell_type": "code",
      "metadata": {
        "id": "To7G01L-fhBs",
        "outputId": "543e5978-e88c-4471-a79a-67d6f172fc2d",
        "colab": {
          "base_uri": "https://localhost:8080/",
          "height": 1000
        }
      },
      "source": [
        "#In the real sense we want to see how the model's doing but I did this to avoid long training lines on github\n",
        "import lightgbm as lgb\n",
        "from lightgbm import LGBMModel,LGBMClassifier\n",
        "errcb3=[]\n",
        "y_pred_totcb3=[]\n",
        "fold=KFold(n_splits=25)#25\n",
        "i=1\n",
        "for train_index, test_index in fold.split(train,y):\n",
        "    print(str(i) + ' iter')\n",
        "    #X_train, X_test = train.iloc[train_index], train.iloc[test_index]\n",
        "    #y_train, y_test = y.iloc[train_index], y.iloc[test_index]\n",
        "    m3  = lgb.LGBMClassifier(n_estimators=1000,random_seed = 10, use_best_model=True, eval_metric = 'logloss')\n",
        "    m3.fit(xtr, ytr, eval_metric = 'auc',\n",
        "                  eval_set = [(xtr, ytr), (xtst, ytst)],\n",
        "                  eval_names = ['valid', 'train'],\n",
        "                  early_stopping_rounds = 100, verbose = 200)\n",
        "    preds=m3.predict_proba(xtst)[:,1]\n",
        "    print(\"err: \",log_loss(ytst,preds))\n",
        "    errcb3.append((log_loss(ytst,preds)))\n",
        "    p3 = m3.predict_proba(test)[:,1]\n",
        "    y_pred_totcb3.append(p3)\n",
        "    i+=1\n",
        "np.mean(errcb3)"
      ],
      "execution_count": null,
      "outputs": [
        {
          "output_type": "stream",
          "text": [
            "1 iter\n",
            "Training until validation scores don't improve for 100 rounds.\n",
            "Early stopping, best iteration is:\n",
            "[79]\tvalid's binary_logloss: 0.382929\tvalid's auc: 0.865224\ttrain's binary_logloss: 0.385837\ttrain's auc: 0.844071\n",
            "err:  0.3858373904304075\n",
            "2 iter\n",
            "Training until validation scores don't improve for 100 rounds.\n",
            "Early stopping, best iteration is:\n",
            "[79]\tvalid's binary_logloss: 0.382929\tvalid's auc: 0.865224\ttrain's binary_logloss: 0.385837\ttrain's auc: 0.844071\n",
            "err:  0.3858373904304075\n",
            "3 iter\n",
            "Training until validation scores don't improve for 100 rounds.\n",
            "Early stopping, best iteration is:\n",
            "[79]\tvalid's binary_logloss: 0.382929\tvalid's auc: 0.865224\ttrain's binary_logloss: 0.385837\ttrain's auc: 0.844071\n",
            "err:  0.3858373904304075\n",
            "4 iter\n",
            "Training until validation scores don't improve for 100 rounds.\n",
            "Early stopping, best iteration is:\n",
            "[79]\tvalid's binary_logloss: 0.382929\tvalid's auc: 0.865224\ttrain's binary_logloss: 0.385837\ttrain's auc: 0.844071\n",
            "err:  0.3858373904304075\n",
            "5 iter\n",
            "Training until validation scores don't improve for 100 rounds.\n",
            "Early stopping, best iteration is:\n",
            "[79]\tvalid's binary_logloss: 0.382929\tvalid's auc: 0.865224\ttrain's binary_logloss: 0.385837\ttrain's auc: 0.844071\n",
            "err:  0.3858373904304075\n",
            "6 iter\n",
            "Training until validation scores don't improve for 100 rounds.\n",
            "Early stopping, best iteration is:\n",
            "[79]\tvalid's binary_logloss: 0.382929\tvalid's auc: 0.865224\ttrain's binary_logloss: 0.385837\ttrain's auc: 0.844071\n",
            "err:  0.3858373904304075\n",
            "7 iter\n",
            "Training until validation scores don't improve for 100 rounds.\n",
            "Early stopping, best iteration is:\n",
            "[79]\tvalid's binary_logloss: 0.382929\tvalid's auc: 0.865224\ttrain's binary_logloss: 0.385837\ttrain's auc: 0.844071\n",
            "err:  0.3858373904304075\n",
            "8 iter\n",
            "Training until validation scores don't improve for 100 rounds.\n",
            "Early stopping, best iteration is:\n",
            "[79]\tvalid's binary_logloss: 0.382929\tvalid's auc: 0.865224\ttrain's binary_logloss: 0.385837\ttrain's auc: 0.844071\n",
            "err:  0.3858373904304075\n",
            "9 iter\n",
            "Training until validation scores don't improve for 100 rounds.\n",
            "Early stopping, best iteration is:\n",
            "[79]\tvalid's binary_logloss: 0.382929\tvalid's auc: 0.865224\ttrain's binary_logloss: 0.385837\ttrain's auc: 0.844071\n",
            "err:  0.3858373904304075\n",
            "10 iter\n",
            "Training until validation scores don't improve for 100 rounds.\n",
            "Early stopping, best iteration is:\n",
            "[79]\tvalid's binary_logloss: 0.382929\tvalid's auc: 0.865224\ttrain's binary_logloss: 0.385837\ttrain's auc: 0.844071\n",
            "err:  0.3858373904304075\n",
            "11 iter\n",
            "Training until validation scores don't improve for 100 rounds.\n",
            "Early stopping, best iteration is:\n",
            "[79]\tvalid's binary_logloss: 0.382929\tvalid's auc: 0.865224\ttrain's binary_logloss: 0.385837\ttrain's auc: 0.844071\n",
            "err:  0.3858373904304075\n",
            "12 iter\n",
            "Training until validation scores don't improve for 100 rounds.\n",
            "Early stopping, best iteration is:\n",
            "[79]\tvalid's binary_logloss: 0.382929\tvalid's auc: 0.865224\ttrain's binary_logloss: 0.385837\ttrain's auc: 0.844071\n",
            "err:  0.3858373904304075\n",
            "13 iter\n",
            "Training until validation scores don't improve for 100 rounds.\n",
            "Early stopping, best iteration is:\n",
            "[79]\tvalid's binary_logloss: 0.382929\tvalid's auc: 0.865224\ttrain's binary_logloss: 0.385837\ttrain's auc: 0.844071\n",
            "err:  0.3858373904304075\n",
            "14 iter\n",
            "Training until validation scores don't improve for 100 rounds.\n",
            "Early stopping, best iteration is:\n",
            "[79]\tvalid's binary_logloss: 0.382929\tvalid's auc: 0.865224\ttrain's binary_logloss: 0.385837\ttrain's auc: 0.844071\n",
            "err:  0.3858373904304075\n",
            "15 iter\n",
            "Training until validation scores don't improve for 100 rounds.\n",
            "Early stopping, best iteration is:\n",
            "[79]\tvalid's binary_logloss: 0.382929\tvalid's auc: 0.865224\ttrain's binary_logloss: 0.385837\ttrain's auc: 0.844071\n",
            "err:  0.3858373904304075\n",
            "16 iter\n",
            "Training until validation scores don't improve for 100 rounds.\n",
            "Early stopping, best iteration is:\n",
            "[79]\tvalid's binary_logloss: 0.382929\tvalid's auc: 0.865224\ttrain's binary_logloss: 0.385837\ttrain's auc: 0.844071\n",
            "err:  0.3858373904304075\n",
            "17 iter\n",
            "Training until validation scores don't improve for 100 rounds.\n",
            "Early stopping, best iteration is:\n",
            "[79]\tvalid's binary_logloss: 0.382929\tvalid's auc: 0.865224\ttrain's binary_logloss: 0.385837\ttrain's auc: 0.844071\n",
            "err:  0.3858373904304075\n",
            "18 iter\n",
            "Training until validation scores don't improve for 100 rounds.\n",
            "Early stopping, best iteration is:\n",
            "[79]\tvalid's binary_logloss: 0.382929\tvalid's auc: 0.865224\ttrain's binary_logloss: 0.385837\ttrain's auc: 0.844071\n",
            "err:  0.3858373904304075\n",
            "19 iter\n",
            "Training until validation scores don't improve for 100 rounds.\n",
            "Early stopping, best iteration is:\n",
            "[79]\tvalid's binary_logloss: 0.382929\tvalid's auc: 0.865224\ttrain's binary_logloss: 0.385837\ttrain's auc: 0.844071\n",
            "err:  0.3858373904304075\n",
            "20 iter\n",
            "Training until validation scores don't improve for 100 rounds.\n",
            "Early stopping, best iteration is:\n",
            "[79]\tvalid's binary_logloss: 0.382929\tvalid's auc: 0.865224\ttrain's binary_logloss: 0.385837\ttrain's auc: 0.844071\n",
            "err:  0.3858373904304075\n",
            "21 iter\n",
            "Training until validation scores don't improve for 100 rounds.\n",
            "Early stopping, best iteration is:\n",
            "[79]\tvalid's binary_logloss: 0.382929\tvalid's auc: 0.865224\ttrain's binary_logloss: 0.385837\ttrain's auc: 0.844071\n",
            "err:  0.3858373904304075\n",
            "22 iter\n",
            "Training until validation scores don't improve for 100 rounds.\n",
            "Early stopping, best iteration is:\n",
            "[79]\tvalid's binary_logloss: 0.382929\tvalid's auc: 0.865224\ttrain's binary_logloss: 0.385837\ttrain's auc: 0.844071\n",
            "err:  0.3858373904304075\n",
            "23 iter\n",
            "Training until validation scores don't improve for 100 rounds.\n",
            "Early stopping, best iteration is:\n",
            "[79]\tvalid's binary_logloss: 0.382929\tvalid's auc: 0.865224\ttrain's binary_logloss: 0.385837\ttrain's auc: 0.844071\n",
            "err:  0.3858373904304075\n",
            "24 iter\n",
            "Training until validation scores don't improve for 100 rounds.\n",
            "Early stopping, best iteration is:\n",
            "[79]\tvalid's binary_logloss: 0.382929\tvalid's auc: 0.865224\ttrain's binary_logloss: 0.385837\ttrain's auc: 0.844071\n",
            "err:  0.3858373904304075\n",
            "25 iter\n",
            "Training until validation scores don't improve for 100 rounds.\n",
            "Early stopping, best iteration is:\n",
            "[79]\tvalid's binary_logloss: 0.382929\tvalid's auc: 0.865224\ttrain's binary_logloss: 0.385837\ttrain's auc: 0.844071\n",
            "err:  0.3858373904304075\n"
          ],
          "name": "stdout"
        },
        {
          "output_type": "execute_result",
          "data": {
            "text/plain": [
              "0.38583739043040743"
            ]
          },
          "metadata": {
            "tags": []
          },
          "execution_count": 319
        }
      ]
    },
    {
      "cell_type": "code",
      "metadata": {
        "id": "SPgFXd77gMjz",
        "outputId": "18c54ada-a9ff-4697-c8f6-c0a699b74488",
        "colab": {
          "base_uri": "https://localhost:8080/",
          "height": 34
        }
      },
      "source": [
        "m3.score(X_train,y_train)"
      ],
      "execution_count": null,
      "outputs": [
        {
          "output_type": "execute_result",
          "data": {
            "text/plain": [
              "0.8246465773809524"
            ]
          },
          "metadata": {
            "tags": []
          },
          "execution_count": 358
        }
      ]
    },
    {
      "cell_type": "code",
      "metadata": {
        "id": "F_M8MIdNgMe7"
      },
      "source": [
        "cat_sub = sample.copy()\n",
        "cat_sub.default_status = np.mean(y_pred_totcb1, axis=0)\n",
        "cat_sub.to_csv('001.csv', index = False)"
      ],
      "execution_count": null,
      "outputs": []
    },
    {
      "cell_type": "code",
      "metadata": {
        "id": "YyQfokt_gMch"
      },
      "source": [
        "lgb_sub = sample.copy()\n",
        "lgb_sub.default_status = np.mean(y_pred_totcb3, axis=0)\n",
        "lgb_sub.to_csv('002.csv', index = False)"
      ],
      "execution_count": null,
      "outputs": []
    },
    {
      "cell_type": "code",
      "metadata": {
        "id": "dBXW9Lm3gMaM"
      },
      "source": [
        "blend = (lgb_sub.default_status*0.4) + (cat_sub.default_status*0.6)\n",
        "blend_sub = sample.copy()\n",
        "blend_sub.default_status = blend\n",
        "blend_sub.to_csv('XGB_CAT.csv', index = False)"
      ],
      "execution_count": null,
      "outputs": []
    },
    {
      "cell_type": "code",
      "metadata": {
        "id": "MFuQK90Npz_4"
      },
      "source": [
        "reblend = ((lgb_sub.default_status*0.33) + (cat_sub.default_status*0.67))*0.95 + (cat_sub.default_status*0.05)\n",
        "reblend_sub = sample.copy()\n",
        "reblend_sub.default_status = reblend\n",
        "reblend_sub.to_csv('XGB_CAT1.csv', index = False)"
      ],
      "execution_count": null,
      "outputs": []
    },
    {
      "cell_type": "code",
      "metadata": {
        "id": "jvV5_lIAvlrZ",
        "outputId": "d502a4c7-70fd-4a0d-f309-6b3ab8063ef8",
        "colab": {
          "base_uri": "https://localhost:8080/",
          "height": 16
        }
      },
      "source": [
        "files.download('XGB_CAT1.csv')"
      ],
      "execution_count": null,
      "outputs": [
        {
          "output_type": "display_data",
          "data": {
            "application/javascript": [
              "\n",
              "    async function download(id, filename, size) {\n",
              "      if (!google.colab.kernel.accessAllowed) {\n",
              "        return;\n",
              "      }\n",
              "      const div = document.createElement('div');\n",
              "      const label = document.createElement('label');\n",
              "      label.textContent = `Downloading \"${filename}\": `;\n",
              "      div.appendChild(label);\n",
              "      const progress = document.createElement('progress');\n",
              "      progress.max = size;\n",
              "      div.appendChild(progress);\n",
              "      document.body.appendChild(div);\n",
              "\n",
              "      const buffers = [];\n",
              "      let downloaded = 0;\n",
              "\n",
              "      const channel = await google.colab.kernel.comms.open(id);\n",
              "      // Send a message to notify the kernel that we're ready.\n",
              "      channel.send({})\n",
              "\n",
              "      for await (const message of channel.messages) {\n",
              "        // Send a message to notify the kernel that we're ready.\n",
              "        channel.send({})\n",
              "        if (message.buffers) {\n",
              "          for (const buffer of message.buffers) {\n",
              "            buffers.push(buffer);\n",
              "            downloaded += buffer.byteLength;\n",
              "            progress.value = downloaded;\n",
              "          }\n",
              "        }\n",
              "      }\n",
              "      const blob = new Blob(buffers, {type: 'application/binary'});\n",
              "      const a = document.createElement('a');\n",
              "      a.href = window.URL.createObjectURL(blob);\n",
              "      a.download = filename;\n",
              "      div.appendChild(a);\n",
              "      a.click();\n",
              "      div.remove();\n",
              "    }\n",
              "  "
            ],
            "text/plain": [
              "<IPython.core.display.Javascript object>"
            ]
          },
          "metadata": {
            "tags": []
          }
        },
        {
          "output_type": "display_data",
          "data": {
            "application/javascript": [
              "download(\"download_2568cde0-bed5-444f-bf68-0bb998a02c60\", \"XGB_CAT1.csv\", 804053)"
            ],
            "text/plain": [
              "<IPython.core.display.Javascript object>"
            ]
          },
          "metadata": {
            "tags": []
          }
        }
      ]
    },
    {
      "cell_type": "code",
      "metadata": {
        "id": "Pmfaqvp8jx7T"
      },
      "source": [
        ""
      ],
      "execution_count": null,
      "outputs": []
    }
  ]
}